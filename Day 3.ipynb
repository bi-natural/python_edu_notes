{
 "cells": [
  {
   "cell_type": "code",
   "execution_count": 73,
   "metadata": {},
   "outputs": [],
   "source": [
    "import numpy as np\n",
    "from pandas import Series, DataFrame\n",
    "import pandas as pd\n",
    "\n",
    "import matplotlib.pyplot as plt\n",
    "plt.rc('font', family='San Serif')\n",
    "\n",
    "from plot_util import get_colormap\n",
    "\n",
    "%matplotlib inline"
   ]
  },
  {
   "cell_type": "code",
   "execution_count": 2,
   "metadata": {
    "collapsed": true
   },
   "outputs": [],
   "source": [
    "iris = pd.read_csv('data/iris.data', header=None)"
   ]
  },
  {
   "cell_type": "code",
   "execution_count": 3,
   "metadata": {},
   "outputs": [
    {
     "data": {
      "text/html": [
       "<div>\n",
       "<style>\n",
       "    .dataframe thead tr:only-child th {\n",
       "        text-align: right;\n",
       "    }\n",
       "\n",
       "    .dataframe thead th {\n",
       "        text-align: left;\n",
       "    }\n",
       "\n",
       "    .dataframe tbody tr th {\n",
       "        vertical-align: top;\n",
       "    }\n",
       "</style>\n",
       "<table border=\"1\" class=\"dataframe\">\n",
       "  <thead>\n",
       "    <tr style=\"text-align: right;\">\n",
       "      <th></th>\n",
       "      <th>0</th>\n",
       "      <th>1</th>\n",
       "      <th>2</th>\n",
       "      <th>3</th>\n",
       "      <th>4</th>\n",
       "    </tr>\n",
       "  </thead>\n",
       "  <tbody>\n",
       "    <tr>\n",
       "      <th>0</th>\n",
       "      <td>5.1</td>\n",
       "      <td>3.5</td>\n",
       "      <td>1.4</td>\n",
       "      <td>0.2</td>\n",
       "      <td>Iris-setosa</td>\n",
       "    </tr>\n",
       "    <tr>\n",
       "      <th>1</th>\n",
       "      <td>4.9</td>\n",
       "      <td>3.0</td>\n",
       "      <td>1.4</td>\n",
       "      <td>0.2</td>\n",
       "      <td>Iris-setosa</td>\n",
       "    </tr>\n",
       "    <tr>\n",
       "      <th>2</th>\n",
       "      <td>4.7</td>\n",
       "      <td>3.2</td>\n",
       "      <td>1.3</td>\n",
       "      <td>0.2</td>\n",
       "      <td>Iris-setosa</td>\n",
       "    </tr>\n",
       "    <tr>\n",
       "      <th>3</th>\n",
       "      <td>4.6</td>\n",
       "      <td>3.1</td>\n",
       "      <td>1.5</td>\n",
       "      <td>0.2</td>\n",
       "      <td>Iris-setosa</td>\n",
       "    </tr>\n",
       "    <tr>\n",
       "      <th>4</th>\n",
       "      <td>5.0</td>\n",
       "      <td>3.6</td>\n",
       "      <td>1.4</td>\n",
       "      <td>0.2</td>\n",
       "      <td>Iris-setosa</td>\n",
       "    </tr>\n",
       "  </tbody>\n",
       "</table>\n",
       "</div>"
      ],
      "text/plain": [
       "     0    1    2    3            4\n",
       "0  5.1  3.5  1.4  0.2  Iris-setosa\n",
       "1  4.9  3.0  1.4  0.2  Iris-setosa\n",
       "2  4.7  3.2  1.3  0.2  Iris-setosa\n",
       "3  4.6  3.1  1.5  0.2  Iris-setosa\n",
       "4  5.0  3.6  1.4  0.2  Iris-setosa"
      ]
     },
     "execution_count": 3,
     "metadata": {},
     "output_type": "execute_result"
    }
   ],
   "source": [
    "iris[:5]"
   ]
  },
  {
   "cell_type": "code",
   "execution_count": 4,
   "metadata": {
    "collapsed": true
   },
   "outputs": [],
   "source": [
    "X = iris[:100].loc[:, 0:3].values"
   ]
  },
  {
   "cell_type": "code",
   "execution_count": 5,
   "metadata": {},
   "outputs": [
    {
     "data": {
      "text/plain": [
       "Iris-setosa        50\n",
       "Iris-versicolor    50\n",
       "Name: 4, dtype: int64"
      ]
     },
     "execution_count": 5,
     "metadata": {},
     "output_type": "execute_result"
    }
   ],
   "source": [
    "iris[:100][4].value_counts()"
   ]
  },
  {
   "cell_type": "code",
   "execution_count": 6,
   "metadata": {
    "collapsed": true
   },
   "outputs": [],
   "source": [
    "y = iris[:100][4]"
   ]
  },
  {
   "cell_type": "code",
   "execution_count": 7,
   "metadata": {
    "collapsed": true
   },
   "outputs": [],
   "source": [
    "y = np.where(y == 'Iris-setosa', 1, -1)"
   ]
  },
  {
   "cell_type": "code",
   "execution_count": 8,
   "metadata": {
    "scrolled": true
   },
   "outputs": [
    {
     "data": {
      "text/plain": [
       "array([-1,  1])"
      ]
     },
     "execution_count": 8,
     "metadata": {},
     "output_type": "execute_result"
    }
   ],
   "source": [
    "np.unique(y)"
   ]
  },
  {
   "cell_type": "code",
   "execution_count": 9,
   "metadata": {
    "collapsed": true
   },
   "outputs": [],
   "source": [
    "from sklearn.model_selection import train_test_split"
   ]
  },
  {
   "cell_type": "code",
   "execution_count": 10,
   "metadata": {
    "collapsed": true
   },
   "outputs": [],
   "source": [
    "X_train, X_test, y_train, y_test = train_test_split(\n",
    "    X, y, test_size=0.3)"
   ]
  },
  {
   "cell_type": "code",
   "execution_count": 11,
   "metadata": {
    "collapsed": true
   },
   "outputs": [],
   "source": [
    "from sklearn.linear_model import Perceptron"
   ]
  },
  {
   "cell_type": "code",
   "execution_count": 12,
   "metadata": {
    "collapsed": true
   },
   "outputs": [],
   "source": [
    "model = Perceptron(n_iter=10, eta0=0.1)"
   ]
  },
  {
   "cell_type": "code",
   "execution_count": 13,
   "metadata": {},
   "outputs": [
    {
     "data": {
      "text/plain": [
       "Perceptron(alpha=0.0001, class_weight=None, eta0=0.1, fit_intercept=True,\n",
       "      n_iter=10, n_jobs=1, penalty=None, random_state=0, shuffle=True,\n",
       "      verbose=0, warm_start=False)"
      ]
     },
     "execution_count": 13,
     "metadata": {},
     "output_type": "execute_result"
    }
   ],
   "source": [
    "model.fit(X_train, y_train)"
   ]
  },
  {
   "cell_type": "code",
   "execution_count": 14,
   "metadata": {},
   "outputs": [
    {
     "data": {
      "text/plain": [
       "(array([[ 0.13,  0.58, -0.73, -0.29]]), array([ 0.1]))"
      ]
     },
     "execution_count": 14,
     "metadata": {},
     "output_type": "execute_result"
    }
   ],
   "source": [
    "model.coef_, model.intercept_"
   ]
  },
  {
   "cell_type": "code",
   "execution_count": 15,
   "metadata": {
    "collapsed": true
   },
   "outputs": [],
   "source": [
    "y_pred = model.predict(X_test)"
   ]
  },
  {
   "cell_type": "code",
   "execution_count": 16,
   "metadata": {
    "collapsed": true
   },
   "outputs": [],
   "source": [
    "score = (y_pred == y_test).sum() / len(y_test)"
   ]
  },
  {
   "cell_type": "code",
   "execution_count": 17,
   "metadata": {},
   "outputs": [
    {
     "data": {
      "text/plain": [
       "1.0"
      ]
     },
     "execution_count": 17,
     "metadata": {},
     "output_type": "execute_result"
    }
   ],
   "source": [
    "score"
   ]
  },
  {
   "cell_type": "markdown",
   "metadata": {},
   "source": [
    "#### 연습\n",
    "\n",
    "아래 구성된 data 대해 퍼셉트론 모델을 훈련하고 평가합니다."
   ]
  },
  {
   "cell_type": "code",
   "execution_count": 18,
   "metadata": {
    "collapsed": true
   },
   "outputs": [],
   "source": [
    "data = iris[50:]"
   ]
  },
  {
   "cell_type": "code",
   "execution_count": 19,
   "metadata": {},
   "outputs": [
    {
     "data": {
      "text/plain": [
       "Iris-virginica     50\n",
       "Iris-versicolor    50\n",
       "Name: 4, dtype: int64"
      ]
     },
     "execution_count": 19,
     "metadata": {},
     "output_type": "execute_result"
    }
   ],
   "source": [
    "data[4].value_counts()"
   ]
  },
  {
   "cell_type": "code",
   "execution_count": 20,
   "metadata": {
    "collapsed": true
   },
   "outputs": [],
   "source": [
    "X = data.loc[:, 0:3].values"
   ]
  },
  {
   "cell_type": "code",
   "execution_count": 21,
   "metadata": {
    "collapsed": true
   },
   "outputs": [],
   "source": [
    "y = np.where(data[4] == 'Iris-versicolor', 1, -1)"
   ]
  },
  {
   "cell_type": "code",
   "execution_count": 22,
   "metadata": {
    "collapsed": true
   },
   "outputs": [],
   "source": [
    "X_train, X_test, y_train, y_test = train_test_split(\n",
    "    X, y, test_size=0.3)"
   ]
  },
  {
   "cell_type": "code",
   "execution_count": 23,
   "metadata": {
    "collapsed": true
   },
   "outputs": [],
   "source": [
    "model = Perceptron(n_iter=10, eta0=0.1)"
   ]
  },
  {
   "cell_type": "code",
   "execution_count": 24,
   "metadata": {},
   "outputs": [
    {
     "data": {
      "text/plain": [
       "Perceptron(alpha=0.0001, class_weight=None, eta0=0.1, fit_intercept=True,\n",
       "      n_iter=10, n_jobs=1, penalty=None, random_state=0, shuffle=True,\n",
       "      verbose=0, warm_start=False)"
      ]
     },
     "execution_count": 24,
     "metadata": {},
     "output_type": "execute_result"
    }
   ],
   "source": [
    "model.fit(X_train, y_train)"
   ]
  },
  {
   "cell_type": "code",
   "execution_count": 25,
   "metadata": {
    "collapsed": true
   },
   "outputs": [],
   "source": [
    "score = model.score(X_test, y_test)"
   ]
  },
  {
   "cell_type": "code",
   "execution_count": 26,
   "metadata": {},
   "outputs": [
    {
     "data": {
      "text/plain": [
       "0.5"
      ]
     },
     "execution_count": 26,
     "metadata": {},
     "output_type": "execute_result"
    }
   ],
   "source": [
    "score"
   ]
  },
  {
   "cell_type": "code",
   "execution_count": 27,
   "metadata": {},
   "outputs": [
    {
     "data": {
      "text/plain": [
       "<matplotlib.axes._subplots.AxesSubplot at 0xbfa8668>"
      ]
     },
     "execution_count": 27,
     "metadata": {},
     "output_type": "execute_result"
    },
    {
     "data": {
      "image/png": "[encoded data removed]",
      "text/plain": [
       "<matplotlib.figure.Figure at 0xae94e48>"
      ]
     },
     "metadata": {},
     "output_type": "display_data"
    }
   ],
   "source": [
    "c = get_colormap(y, colors='rb')\n",
    "data.plot(kind='scatter', x=0, y=1, c=c)"
   ]
  },
  {
   "cell_type": "code",
   "execution_count": 28,
   "metadata": {
    "collapsed": true
   },
   "outputs": [],
   "source": [
    "results = []\n",
    "for n in range(10, 110, 10):\n",
    "    model = Perceptron(n_iter=n, eta0=0.1)\n",
    "    model.fit(X_train, y_train)\n",
    "    score = model.score(X_test, y_test)\n",
    "    results.append((n, score))"
   ]
  },
  {
   "cell_type": "code",
   "execution_count": 29,
   "metadata": {},
   "outputs": [
    {
     "data": {
      "text/html": [
       "<div>\n",
       "<style>\n",
       "    .dataframe thead tr:only-child th {\n",
       "        text-align: right;\n",
       "    }\n",
       "\n",
       "    .dataframe thead th {\n",
       "        text-align: left;\n",
       "    }\n",
       "\n",
       "    .dataframe tbody tr th {\n",
       "        vertical-align: top;\n",
       "    }\n",
       "</style>\n",
       "<table border=\"1\" class=\"dataframe\">\n",
       "  <thead>\n",
       "    <tr style=\"text-align: right;\">\n",
       "      <th></th>\n",
       "      <th>score</th>\n",
       "    </tr>\n",
       "    <tr>\n",
       "      <th>n_iter</th>\n",
       "      <th></th>\n",
       "    </tr>\n",
       "  </thead>\n",
       "  <tbody>\n",
       "    <tr>\n",
       "      <th>10</th>\n",
       "      <td>0.500000</td>\n",
       "    </tr>\n",
       "    <tr>\n",
       "      <th>20</th>\n",
       "      <td>0.900000</td>\n",
       "    </tr>\n",
       "    <tr>\n",
       "      <th>30</th>\n",
       "      <td>0.900000</td>\n",
       "    </tr>\n",
       "    <tr>\n",
       "      <th>40</th>\n",
       "      <td>0.900000</td>\n",
       "    </tr>\n",
       "    <tr>\n",
       "      <th>50</th>\n",
       "      <td>0.900000</td>\n",
       "    </tr>\n",
       "    <tr>\n",
       "      <th>60</th>\n",
       "      <td>0.966667</td>\n",
       "    </tr>\n",
       "    <tr>\n",
       "      <th>70</th>\n",
       "      <td>0.866667</td>\n",
       "    </tr>\n",
       "    <tr>\n",
       "      <th>80</th>\n",
       "      <td>0.833333</td>\n",
       "    </tr>\n",
       "    <tr>\n",
       "      <th>90</th>\n",
       "      <td>0.900000</td>\n",
       "    </tr>\n",
       "    <tr>\n",
       "      <th>100</th>\n",
       "      <td>0.800000</td>\n",
       "    </tr>\n",
       "  </tbody>\n",
       "</table>\n",
       "</div>"
      ],
      "text/plain": [
       "           score\n",
       "n_iter          \n",
       "10      0.500000\n",
       "20      0.900000\n",
       "30      0.900000\n",
       "40      0.900000\n",
       "50      0.900000\n",
       "60      0.966667\n",
       "70      0.866667\n",
       "80      0.833333\n",
       "90      0.900000\n",
       "100     0.800000"
      ]
     },
     "execution_count": 29,
     "metadata": {},
     "output_type": "execute_result"
    }
   ],
   "source": [
    "report = DataFrame(results)\n",
    "report.columns = ['n_iter', 'score']\n",
    "report = report.set_index('n_iter')\n",
    "report"
   ]
  },
  {
   "cell_type": "code",
   "execution_count": 30,
   "metadata": {},
   "outputs": [
    {
     "data": {
      "text/plain": [
       "<matplotlib.axes._subplots.AxesSubplot at 0xae94a58>"
      ]
     },
     "execution_count": 30,
     "metadata": {},
     "output_type": "execute_result"
    },
    {
     "data": {
      "image/png": "[encoded data removed]",
      "text/plain": [
       "<matplotlib.figure.Figure at 0xc0766a0>"
      ]
     },
     "metadata": {},
     "output_type": "display_data"
    }
   ],
   "source": [
    "report.plot(style='o--')"
   ]
  },
  {
   "cell_type": "code",
   "execution_count": 31,
   "metadata": {
    "collapsed": true
   },
   "outputs": [],
   "source": [
    "from sklearn.linear_model import LogisticRegression"
   ]
  },
  {
   "cell_type": "code",
   "execution_count": 32,
   "metadata": {
    "collapsed": true
   },
   "outputs": [],
   "source": [
    "model = LogisticRegression(C=1.0)"
   ]
  },
  {
   "cell_type": "code",
   "execution_count": 33,
   "metadata": {},
   "outputs": [
    {
     "data": {
      "text/plain": [
       "LogisticRegression(C=1.0, class_weight=None, dual=False, fit_intercept=True,\n",
       "          intercept_scaling=1, max_iter=100, multi_class='ovr', n_jobs=1,\n",
       "          penalty='l2', random_state=None, solver='liblinear', tol=0.0001,\n",
       "          verbose=0, warm_start=False)"
      ]
     },
     "execution_count": 33,
     "metadata": {},
     "output_type": "execute_result"
    }
   ],
   "source": [
    "model.fit(X_train, y_train)"
   ]
  },
  {
   "cell_type": "code",
   "execution_count": 34,
   "metadata": {
    "collapsed": true
   },
   "outputs": [],
   "source": [
    "score = model.score(X_test, y_test)"
   ]
  },
  {
   "cell_type": "code",
   "execution_count": 35,
   "metadata": {},
   "outputs": [
    {
     "data": {
      "text/plain": [
       "0.90000000000000002"
      ]
     },
     "execution_count": 35,
     "metadata": {},
     "output_type": "execute_result"
    }
   ],
   "source": [
    "score"
   ]
  },
  {
   "cell_type": "code",
   "execution_count": 36,
   "metadata": {},
   "outputs": [
    {
     "data": {
      "text/plain": [
       "array([[ 0.868717  ,  0.131283  ],\n",
       "       [ 0.23520869,  0.76479131],\n",
       "       [ 0.86647108,  0.13352892],\n",
       "       [ 0.64847652,  0.35152348],\n",
       "       [ 0.76935531,  0.23064469],\n",
       "       [ 0.61093752,  0.38906248],\n",
       "       [ 0.15764267,  0.84235733],\n",
       "       [ 0.60319277,  0.39680723],\n",
       "       [ 0.58142395,  0.41857605],\n",
       "       [ 0.16938998,  0.83061002],\n",
       "       [ 0.92108877,  0.07891123],\n",
       "       [ 0.97735802,  0.02264198],\n",
       "       [ 0.18245653,  0.81754347],\n",
       "       [ 0.22924899,  0.77075101],\n",
       "       [ 0.26183063,  0.73816937],\n",
       "       [ 0.35455356,  0.64544644],\n",
       "       [ 0.5377951 ,  0.4622049 ],\n",
       "       [ 0.14984632,  0.85015368],\n",
       "       [ 0.88035214,  0.11964786],\n",
       "       [ 0.58683102,  0.41316898],\n",
       "       [ 0.92603113,  0.07396887],\n",
       "       [ 0.51319878,  0.48680122],\n",
       "       [ 0.31615502,  0.68384498],\n",
       "       [ 0.12304472,  0.87695528],\n",
       "       [ 0.19574909,  0.80425091],\n",
       "       [ 0.1762941 ,  0.8237059 ],\n",
       "       [ 0.79727239,  0.20272761],\n",
       "       [ 0.98239074,  0.01760926],\n",
       "       [ 0.7777131 ,  0.2222869 ],\n",
       "       [ 0.61913844,  0.38086156]])"
      ]
     },
     "execution_count": 36,
     "metadata": {},
     "output_type": "execute_result"
    }
   ],
   "source": [
    "model.predict_proba(X_test)"
   ]
  },
  {
   "cell_type": "code",
   "execution_count": 37,
   "metadata": {
    "collapsed": true
   },
   "outputs": [],
   "source": [
    "X = iris.loc[:, 0:3].values"
   ]
  },
  {
   "cell_type": "code",
   "execution_count": 38,
   "metadata": {
    "collapsed": true
   },
   "outputs": [],
   "source": [
    "y = iris[4].values"
   ]
  },
  {
   "cell_type": "code",
   "execution_count": 39,
   "metadata": {},
   "outputs": [
    {
     "data": {
      "text/plain": [
       "array(['Iris-setosa', 'Iris-versicolor', 'Iris-virginica'], dtype=object)"
      ]
     },
     "execution_count": 39,
     "metadata": {},
     "output_type": "execute_result"
    }
   ],
   "source": [
    "np.unique(y)"
   ]
  },
  {
   "cell_type": "code",
   "execution_count": 40,
   "metadata": {
    "collapsed": true
   },
   "outputs": [],
   "source": [
    "X_train, X_test, y_train, y_test = train_test_split(\n",
    "    X, y, test_size=0.3)"
   ]
  },
  {
   "cell_type": "code",
   "execution_count": 41,
   "metadata": {
    "collapsed": true
   },
   "outputs": [],
   "source": [
    "model = LogisticRegression(C=1.0)"
   ]
  },
  {
   "cell_type": "code",
   "execution_count": 42,
   "metadata": {},
   "outputs": [
    {
     "data": {
      "text/plain": [
       "LogisticRegression(C=1.0, class_weight=None, dual=False, fit_intercept=True,\n",
       "          intercept_scaling=1, max_iter=100, multi_class='ovr', n_jobs=1,\n",
       "          penalty='l2', random_state=None, solver='liblinear', tol=0.0001,\n",
       "          verbose=0, warm_start=False)"
      ]
     },
     "execution_count": 42,
     "metadata": {},
     "output_type": "execute_result"
    }
   ],
   "source": [
    "model.fit(X_train, y_train)"
   ]
  },
  {
   "cell_type": "code",
   "execution_count": 43,
   "metadata": {
    "collapsed": true
   },
   "outputs": [],
   "source": [
    "score = model.score(X_test, y_test)"
   ]
  },
  {
   "cell_type": "code",
   "execution_count": 44,
   "metadata": {},
   "outputs": [
    {
     "data": {
      "text/plain": [
       "0.9555555555555556"
      ]
     },
     "execution_count": 44,
     "metadata": {},
     "output_type": "execute_result"
    }
   ],
   "source": [
    "score"
   ]
  },
  {
   "cell_type": "code",
   "execution_count": 45,
   "metadata": {},
   "outputs": [
    {
     "data": {
      "text/plain": [
       "array([[ 0.39381599,  1.32264277, -2.09234116, -0.98614778],\n",
       "       [ 0.37191418, -1.41989784,  0.32931412, -0.79496312],\n",
       "       [-1.59116851, -1.32598827,  2.35222281,  1.94454035]])"
      ]
     },
     "execution_count": 45,
     "metadata": {},
     "output_type": "execute_result"
    }
   ],
   "source": [
    "model.coef_"
   ]
  },
  {
   "cell_type": "code",
   "execution_count": 46,
   "metadata": {},
   "outputs": [
    {
     "data": {
      "text/plain": [
       "<matplotlib.axes._subplots.AxesSubplot at 0xc0e8b38>"
      ]
     },
     "execution_count": 46,
     "metadata": {},
     "output_type": "execute_result"
    },
    {
     "data": {
      "image/png": "[encoded data removed]",
      "text/plain": [
       "<matplotlib.figure.Figure at 0xc08cac8>"
      ]
     },
     "metadata": {},
     "output_type": "display_data"
    }
   ],
   "source": [
    "c = get_colormap(y, colors='rgb')\n",
    "iris.plot(kind='scatter', x=0, y=1, c=c)"
   ]
  },
  {
   "cell_type": "code",
   "execution_count": 47,
   "metadata": {},
   "outputs": [
    {
     "data": {
      "text/plain": [
       "0.98095238095238091"
      ]
     },
     "execution_count": 47,
     "metadata": {},
     "output_type": "execute_result"
    }
   ],
   "source": [
    "model.score(X_train, y_train)"
   ]
  },
  {
   "cell_type": "code",
   "execution_count": 48,
   "metadata": {
    "collapsed": true
   },
   "outputs": [],
   "source": [
    "wine = pd.read_csv('data/wine.data')"
   ]
  },
  {
   "cell_type": "code",
   "execution_count": 49,
   "metadata": {},
   "outputs": [
    {
     "data": {
      "text/plain": [
       "(178, 14)"
      ]
     },
     "execution_count": 49,
     "metadata": {},
     "output_type": "execute_result"
    }
   ],
   "source": [
    "wine.shape"
   ]
  },
  {
   "cell_type": "code",
   "execution_count": 50,
   "metadata": {},
   "outputs": [
    {
     "data": {
      "text/plain": [
       "2    71\n",
       "1    59\n",
       "3    48\n",
       "Name: Class label, dtype: int64"
      ]
     },
     "execution_count": 50,
     "metadata": {},
     "output_type": "execute_result"
    }
   ],
   "source": [
    "wine['Class label'].value_counts()"
   ]
  },
  {
   "cell_type": "code",
   "execution_count": 51,
   "metadata": {
    "collapsed": true
   },
   "outputs": [],
   "source": [
    "y = wine['Class label'].values"
   ]
  },
  {
   "cell_type": "code",
   "execution_count": 52,
   "metadata": {
    "collapsed": true
   },
   "outputs": [],
   "source": [
    "X = wine.loc[:, 'Alcohol':].values"
   ]
  },
  {
   "cell_type": "code",
   "execution_count": 53,
   "metadata": {},
   "outputs": [
    {
     "data": {
      "text/plain": [
       "(178, 13)"
      ]
     },
     "execution_count": 53,
     "metadata": {},
     "output_type": "execute_result"
    }
   ],
   "source": [
    "X.shape"
   ]
  },
  {
   "cell_type": "markdown",
   "metadata": {},
   "source": [
    "#### 연습\n",
    "\n",
    "구성한 X, y에 대해 로지스틱 회귀(LR; Logistic Regression) 모델을 훈련하고, 평가합니다."
   ]
  },
  {
   "cell_type": "code",
   "execution_count": 54,
   "metadata": {
    "collapsed": true
   },
   "outputs": [],
   "source": [
    "X_train, X_test, y_train, y_test = train_test_split(\n",
    "    X, y, test_size=0.3)"
   ]
  },
  {
   "cell_type": "code",
   "execution_count": 55,
   "metadata": {
    "collapsed": true
   },
   "outputs": [],
   "source": [
    "model = LogisticRegression(C=1.0)"
   ]
  },
  {
   "cell_type": "code",
   "execution_count": 56,
   "metadata": {},
   "outputs": [
    {
     "data": {
      "text/plain": [
       "LogisticRegression(C=1.0, class_weight=None, dual=False, fit_intercept=True,\n",
       "          intercept_scaling=1, max_iter=100, multi_class='ovr', n_jobs=1,\n",
       "          penalty='l2', random_state=None, solver='liblinear', tol=0.0001,\n",
       "          verbose=0, warm_start=False)"
      ]
     },
     "execution_count": 56,
     "metadata": {},
     "output_type": "execute_result"
    }
   ],
   "source": [
    "model.fit(X_train, y_train)"
   ]
  },
  {
   "cell_type": "code",
   "execution_count": 57,
   "metadata": {
    "scrolled": true
   },
   "outputs": [
    {
     "data": {
      "text/plain": [
       "0.98148148148148151"
      ]
     },
     "execution_count": 57,
     "metadata": {},
     "output_type": "execute_result"
    }
   ],
   "source": [
    "model.score(X_test, y_test)"
   ]
  },
  {
   "cell_type": "code",
   "execution_count": 66,
   "metadata": {
    "collapsed": true
   },
   "outputs": [],
   "source": [
    "X_train, X_test, y_train, y_test = train_test_split(\n",
    "    X, y, test_size=0.3)"
   ]
  },
  {
   "cell_type": "code",
   "execution_count": 67,
   "metadata": {},
   "outputs": [],
   "source": [
    "results = []\n",
    "for C in [0.001, 0.01, 0.1, 1., 10., 100., 1000.]:\n",
    "    model = LogisticRegression(C=C)\n",
    "    model.fit(X_train, y_train)\n",
    "    score_train = model.score(X_train, y_train)\n",
    "    score_test = model.score(X_test, y_test)\n",
    "    results.append((C, score_train, score_test))"
   ]
  },
  {
   "cell_type": "code",
   "execution_count": 68,
   "metadata": {},
   "outputs": [
    {
     "data": {
      "text/html": [
       "<div>\n",
       "<style>\n",
       "    .dataframe thead tr:only-child th {\n",
       "        text-align: right;\n",
       "    }\n",
       "\n",
       "    .dataframe thead th {\n",
       "        text-align: left;\n",
       "    }\n",
       "\n",
       "    .dataframe tbody tr th {\n",
       "        vertical-align: top;\n",
       "    }\n",
       "</style>\n",
       "<table border=\"1\" class=\"dataframe\">\n",
       "  <thead>\n",
       "    <tr style=\"text-align: right;\">\n",
       "      <th></th>\n",
       "      <th>train</th>\n",
       "      <th>test</th>\n",
       "    </tr>\n",
       "    <tr>\n",
       "      <th>C</th>\n",
       "      <th></th>\n",
       "      <th></th>\n",
       "    </tr>\n",
       "  </thead>\n",
       "  <tbody>\n",
       "    <tr>\n",
       "      <th>0.001</th>\n",
       "      <td>0.741935</td>\n",
       "      <td>0.722222</td>\n",
       "    </tr>\n",
       "    <tr>\n",
       "      <th>0.010</th>\n",
       "      <td>0.927419</td>\n",
       "      <td>0.851852</td>\n",
       "    </tr>\n",
       "    <tr>\n",
       "      <th>0.100</th>\n",
       "      <td>0.991935</td>\n",
       "      <td>0.888889</td>\n",
       "    </tr>\n",
       "    <tr>\n",
       "      <th>1.000</th>\n",
       "      <td>0.991935</td>\n",
       "      <td>0.925926</td>\n",
       "    </tr>\n",
       "    <tr>\n",
       "      <th>10.000</th>\n",
       "      <td>0.991935</td>\n",
       "      <td>0.907407</td>\n",
       "    </tr>\n",
       "    <tr>\n",
       "      <th>100.000</th>\n",
       "      <td>1.000000</td>\n",
       "      <td>0.907407</td>\n",
       "    </tr>\n",
       "    <tr>\n",
       "      <th>1000.000</th>\n",
       "      <td>1.000000</td>\n",
       "      <td>0.907407</td>\n",
       "    </tr>\n",
       "  </tbody>\n",
       "</table>\n",
       "</div>"
      ],
      "text/plain": [
       "             train      test\n",
       "C                           \n",
       "0.001     0.741935  0.722222\n",
       "0.010     0.927419  0.851852\n",
       "0.100     0.991935  0.888889\n",
       "1.000     0.991935  0.925926\n",
       "10.000    0.991935  0.907407\n",
       "100.000   1.000000  0.907407\n",
       "1000.000  1.000000  0.907407"
      ]
     },
     "execution_count": 68,
     "metadata": {},
     "output_type": "execute_result"
    }
   ],
   "source": [
    "report = DataFrame(results)\n",
    "report.columns = ['C', 'train', 'test']\n",
    "report = report.set_index('C')\n",
    "report"
   ]
  },
  {
   "cell_type": "code",
   "execution_count": 74,
   "metadata": {
    "collapsed": true
   },
   "outputs": [
    {
     "data": {
      "text/plain": [
       "<matplotlib.axes._subplots.AxesSubplot at 0xcd44630>"
      ]
     },
     "execution_count": 74,
     "metadata": {},
     "output_type": "execute_result"
    },
    {
     "name": "stderr",
     "output_type": "stream",
     "text": [
      "C:\\ProgramData\\Anaconda3\\lib\\site-packages\\matplotlib\\font_manager.py:1297: UserWarning: findfont: Font family ['San Serif'] not found. Falling back to DejaVu Sans\n",
      "  (prop.get_family(), self.defaultFamily[fontext]))\n"
     ]
    },
    {
     "data": {
      "image/png": "[encoded data removed]",
      "text/plain": [
       "<matplotlib.figure.Figure at 0xcd733c8>"
      ]
     },
     "metadata": {},
     "output_type": "display_data"
    }
   ],
   "source": [
    "report.plot(logx=True, style=['go--', 'ro--'])"
   ]
  },
  {
   "cell_type": "code",
   "execution_count": 102,
   "metadata": {},
   "outputs": [],
   "source": [
    "from sklearn.preprocessing import StandardScaler, MinMaxScaler"
   ]
  },
  {
   "cell_type": "code",
   "execution_count": 79,
   "metadata": {
    "collapsed": true
   },
   "outputs": [],
   "source": [
    "scaler = StandardScaler()"
   ]
  },
  {
   "cell_type": "code",
   "execution_count": 80,
   "metadata": {
    "collapsed": true
   },
   "outputs": [],
   "source": [
    "Xstd = scaler.fit_transform(X)"
   ]
  },
  {
   "cell_type": "code",
   "execution_count": 81,
   "metadata": {
    "collapsed": true
   },
   "outputs": [
    {
     "data": {
      "text/html": [
       "<div>\n",
       "<style>\n",
       "    .dataframe thead tr:only-child th {\n",
       "        text-align: right;\n",
       "    }\n",
       "\n",
       "    .dataframe thead th {\n",
       "        text-align: left;\n",
       "    }\n",
       "\n",
       "    .dataframe tbody tr th {\n",
       "        vertical-align: top;\n",
       "    }\n",
       "</style>\n",
       "<table border=\"1\" class=\"dataframe\">\n",
       "  <thead>\n",
       "    <tr style=\"text-align: right;\">\n",
       "      <th></th>\n",
       "      <th>0</th>\n",
       "      <th>1</th>\n",
       "      <th>2</th>\n",
       "      <th>3</th>\n",
       "      <th>4</th>\n",
       "      <th>5</th>\n",
       "      <th>6</th>\n",
       "      <th>7</th>\n",
       "      <th>8</th>\n",
       "      <th>9</th>\n",
       "      <th>10</th>\n",
       "      <th>11</th>\n",
       "      <th>12</th>\n",
       "    </tr>\n",
       "  </thead>\n",
       "  <tbody>\n",
       "    <tr>\n",
       "      <th>0</th>\n",
       "      <td>1.518613</td>\n",
       "      <td>-0.562250</td>\n",
       "      <td>0.232053</td>\n",
       "      <td>-1.169593</td>\n",
       "      <td>1.913905</td>\n",
       "      <td>0.808997</td>\n",
       "      <td>1.034819</td>\n",
       "      <td>-0.659563</td>\n",
       "      <td>1.224884</td>\n",
       "      <td>0.251717</td>\n",
       "      <td>0.362177</td>\n",
       "      <td>1.847920</td>\n",
       "      <td>1.013009</td>\n",
       "    </tr>\n",
       "    <tr>\n",
       "      <th>1</th>\n",
       "      <td>0.246290</td>\n",
       "      <td>-0.499413</td>\n",
       "      <td>-0.827996</td>\n",
       "      <td>-2.490847</td>\n",
       "      <td>0.018145</td>\n",
       "      <td>0.568648</td>\n",
       "      <td>0.733629</td>\n",
       "      <td>-0.820719</td>\n",
       "      <td>-0.544721</td>\n",
       "      <td>-0.293321</td>\n",
       "      <td>0.406051</td>\n",
       "      <td>1.113449</td>\n",
       "      <td>0.965242</td>\n",
       "    </tr>\n",
       "    <tr>\n",
       "      <th>2</th>\n",
       "      <td>0.196879</td>\n",
       "      <td>0.021231</td>\n",
       "      <td>1.109334</td>\n",
       "      <td>-0.268738</td>\n",
       "      <td>0.088358</td>\n",
       "      <td>0.808997</td>\n",
       "      <td>1.215533</td>\n",
       "      <td>-0.498407</td>\n",
       "      <td>2.135968</td>\n",
       "      <td>0.269020</td>\n",
       "      <td>0.318304</td>\n",
       "      <td>0.788587</td>\n",
       "      <td>1.395148</td>\n",
       "    </tr>\n",
       "    <tr>\n",
       "      <th>3</th>\n",
       "      <td>1.691550</td>\n",
       "      <td>-0.346811</td>\n",
       "      <td>0.487926</td>\n",
       "      <td>-0.809251</td>\n",
       "      <td>0.930918</td>\n",
       "      <td>2.491446</td>\n",
       "      <td>1.466525</td>\n",
       "      <td>-0.981875</td>\n",
       "      <td>1.032155</td>\n",
       "      <td>1.186068</td>\n",
       "      <td>-0.427544</td>\n",
       "      <td>1.184071</td>\n",
       "      <td>2.334574</td>\n",
       "    </tr>\n",
       "    <tr>\n",
       "      <th>4</th>\n",
       "      <td>0.295700</td>\n",
       "      <td>0.227694</td>\n",
       "      <td>1.840403</td>\n",
       "      <td>0.451946</td>\n",
       "      <td>1.281985</td>\n",
       "      <td>0.808997</td>\n",
       "      <td>0.663351</td>\n",
       "      <td>0.226796</td>\n",
       "      <td>0.401404</td>\n",
       "      <td>-0.319276</td>\n",
       "      <td>0.362177</td>\n",
       "      <td>0.449601</td>\n",
       "      <td>-0.037874</td>\n",
       "    </tr>\n",
       "    <tr>\n",
       "      <th>5</th>\n",
       "      <td>1.481555</td>\n",
       "      <td>-0.517367</td>\n",
       "      <td>0.305159</td>\n",
       "      <td>-1.289707</td>\n",
       "      <td>0.860705</td>\n",
       "      <td>1.562093</td>\n",
       "      <td>1.366128</td>\n",
       "      <td>-0.176095</td>\n",
       "      <td>0.664217</td>\n",
       "      <td>0.731870</td>\n",
       "      <td>0.406051</td>\n",
       "      <td>0.336606</td>\n",
       "      <td>2.239039</td>\n",
       "    </tr>\n",
       "    <tr>\n",
       "      <th>6</th>\n",
       "      <td>1.716255</td>\n",
       "      <td>-0.418624</td>\n",
       "      <td>0.305159</td>\n",
       "      <td>-1.469878</td>\n",
       "      <td>-0.262708</td>\n",
       "      <td>0.328298</td>\n",
       "      <td>0.492677</td>\n",
       "      <td>-0.498407</td>\n",
       "      <td>0.681738</td>\n",
       "      <td>0.083015</td>\n",
       "      <td>0.274431</td>\n",
       "      <td>1.367689</td>\n",
       "      <td>1.729520</td>\n",
       "    </tr>\n",
       "    <tr>\n",
       "      <th>7</th>\n",
       "      <td>1.308617</td>\n",
       "      <td>-0.167278</td>\n",
       "      <td>0.890014</td>\n",
       "      <td>-0.569023</td>\n",
       "      <td>1.492625</td>\n",
       "      <td>0.488531</td>\n",
       "      <td>0.482637</td>\n",
       "      <td>-0.417829</td>\n",
       "      <td>-0.597284</td>\n",
       "      <td>-0.003499</td>\n",
       "      <td>0.449924</td>\n",
       "      <td>1.367689</td>\n",
       "      <td>1.745442</td>\n",
       "    </tr>\n",
       "    <tr>\n",
       "      <th>8</th>\n",
       "      <td>2.259772</td>\n",
       "      <td>-0.625086</td>\n",
       "      <td>-0.718336</td>\n",
       "      <td>-1.650049</td>\n",
       "      <td>-0.192495</td>\n",
       "      <td>0.808997</td>\n",
       "      <td>0.954502</td>\n",
       "      <td>-0.578985</td>\n",
       "      <td>0.681738</td>\n",
       "      <td>0.061386</td>\n",
       "      <td>0.537671</td>\n",
       "      <td>0.336606</td>\n",
       "      <td>0.949319</td>\n",
       "    </tr>\n",
       "    <tr>\n",
       "      <th>9</th>\n",
       "      <td>1.061565</td>\n",
       "      <td>-0.885409</td>\n",
       "      <td>-0.352802</td>\n",
       "      <td>-1.049479</td>\n",
       "      <td>-0.122282</td>\n",
       "      <td>1.097417</td>\n",
       "      <td>1.125176</td>\n",
       "      <td>-1.143031</td>\n",
       "      <td>0.453967</td>\n",
       "      <td>0.935177</td>\n",
       "      <td>0.230557</td>\n",
       "      <td>1.325316</td>\n",
       "      <td>0.949319</td>\n",
       "    </tr>\n",
       "    <tr>\n",
       "      <th>10</th>\n",
       "      <td>1.358028</td>\n",
       "      <td>-0.158301</td>\n",
       "      <td>-0.243142</td>\n",
       "      <td>-0.448909</td>\n",
       "      <td>0.369212</td>\n",
       "      <td>1.049347</td>\n",
       "      <td>1.295850</td>\n",
       "      <td>-1.143031</td>\n",
       "      <td>1.382572</td>\n",
       "      <td>0.299300</td>\n",
       "      <td>1.283518</td>\n",
       "      <td>0.788587</td>\n",
       "      <td>2.430109</td>\n",
       "    </tr>\n",
       "    <tr>\n",
       "      <th>11</th>\n",
       "      <td>1.382733</td>\n",
       "      <td>-0.768712</td>\n",
       "      <td>-0.170035</td>\n",
       "      <td>-0.809251</td>\n",
       "      <td>-0.332922</td>\n",
       "      <td>-0.152402</td>\n",
       "      <td>0.402320</td>\n",
       "      <td>-0.820719</td>\n",
       "      <td>-0.036617</td>\n",
       "      <td>-0.025128</td>\n",
       "      <td>0.932531</td>\n",
       "      <td>0.294232</td>\n",
       "      <td>1.697675</td>\n",
       "    </tr>\n",
       "    <tr>\n",
       "      <th>12</th>\n",
       "      <td>0.925685</td>\n",
       "      <td>-0.544297</td>\n",
       "      <td>0.158946</td>\n",
       "      <td>-1.049479</td>\n",
       "      <td>-0.754202</td>\n",
       "      <td>0.488531</td>\n",
       "      <td>0.733629</td>\n",
       "      <td>-0.578985</td>\n",
       "      <td>0.383884</td>\n",
       "      <td>0.234414</td>\n",
       "      <td>0.844785</td>\n",
       "      <td>0.407228</td>\n",
       "      <td>1.825055</td>\n",
       "    </tr>\n",
       "    <tr>\n",
       "      <th>13</th>\n",
       "      <td>2.160950</td>\n",
       "      <td>-0.544297</td>\n",
       "      <td>0.085839</td>\n",
       "      <td>-2.430790</td>\n",
       "      <td>-0.613775</td>\n",
       "      <td>1.289697</td>\n",
       "      <td>1.667318</td>\n",
       "      <td>0.549108</td>\n",
       "      <td>2.135968</td>\n",
       "      <td>0.147900</td>\n",
       "      <td>1.283518</td>\n",
       "      <td>0.167113</td>\n",
       "      <td>1.283691</td>\n",
       "    </tr>\n",
       "    <tr>\n",
       "      <th>14</th>\n",
       "      <td>1.703902</td>\n",
       "      <td>-0.418624</td>\n",
       "      <td>0.049285</td>\n",
       "      <td>-2.250619</td>\n",
       "      <td>0.158572</td>\n",
       "      <td>1.610163</td>\n",
       "      <td>1.617120</td>\n",
       "      <td>-0.578985</td>\n",
       "      <td>2.398780</td>\n",
       "      <td>1.056297</td>\n",
       "      <td>1.064151</td>\n",
       "      <td>0.548472</td>\n",
       "      <td>2.547935</td>\n",
       "    </tr>\n",
       "    <tr>\n",
       "      <th>15</th>\n",
       "      <td>0.777454</td>\n",
       "      <td>-0.472483</td>\n",
       "      <td>1.218995</td>\n",
       "      <td>-0.689137</td>\n",
       "      <td>0.860705</td>\n",
       "      <td>0.889114</td>\n",
       "      <td>0.884224</td>\n",
       "      <td>-0.498407</td>\n",
       "      <td>-0.229346</td>\n",
       "      <td>0.969783</td>\n",
       "      <td>1.415139</td>\n",
       "      <td>0.378979</td>\n",
       "      <td>1.793210</td>\n",
       "    </tr>\n",
       "    <tr>\n",
       "      <th>16</th>\n",
       "      <td>1.605081</td>\n",
       "      <td>-0.373741</td>\n",
       "      <td>1.292101</td>\n",
       "      <td>0.151661</td>\n",
       "      <td>1.422412</td>\n",
       "      <td>0.808997</td>\n",
       "      <td>1.115136</td>\n",
       "      <td>-0.256673</td>\n",
       "      <td>0.664217</td>\n",
       "      <td>0.493956</td>\n",
       "      <td>0.493797</td>\n",
       "      <td>0.054117</td>\n",
       "      <td>1.697675</td>\n",
       "    </tr>\n",
       "    <tr>\n",
       "      <th>17</th>\n",
       "      <td>1.024507</td>\n",
       "      <td>-0.687923</td>\n",
       "      <td>0.926567</td>\n",
       "      <td>0.151661</td>\n",
       "      <td>1.071345</td>\n",
       "      <td>1.049347</td>\n",
       "      <td>1.376168</td>\n",
       "      <td>0.307374</td>\n",
       "      <td>0.226196</td>\n",
       "      <td>0.666984</td>\n",
       "      <td>0.757038</td>\n",
       "      <td>-0.058878</td>\n",
       "      <td>1.220001</td>\n",
       "    </tr>\n",
       "    <tr>\n",
       "      <th>18</th>\n",
       "      <td>1.469202</td>\n",
       "      <td>-0.669969</td>\n",
       "      <td>0.414820</td>\n",
       "      <td>-0.899337</td>\n",
       "      <td>0.579852</td>\n",
       "      <td>1.610163</td>\n",
       "      <td>1.908270</td>\n",
       "      <td>-0.337251</td>\n",
       "      <td>0.471488</td>\n",
       "      <td>1.575381</td>\n",
       "      <td>1.195772</td>\n",
       "      <td>0.294232</td>\n",
       "      <td>2.971473</td>\n",
       "    </tr>\n",
       "    <tr>\n",
       "      <th>19</th>\n",
       "      <td>0.789806</td>\n",
       "      <td>0.685502</td>\n",
       "      <td>0.707247</td>\n",
       "      <td>-1.289707</td>\n",
       "      <td>1.141558</td>\n",
       "      <td>0.648764</td>\n",
       "      <td>1.004700</td>\n",
       "      <td>-1.545922</td>\n",
       "      <td>0.121071</td>\n",
       "      <td>0.018129</td>\n",
       "      <td>0.011190</td>\n",
       "      <td>1.056952</td>\n",
       "      <td>0.312420</td>\n",
       "    </tr>\n",
       "    <tr>\n",
       "      <th>20</th>\n",
       "      <td>1.308617</td>\n",
       "      <td>-0.634063</td>\n",
       "      <td>-0.316249</td>\n",
       "      <td>-1.049479</td>\n",
       "      <td>1.843692</td>\n",
       "      <td>1.129464</td>\n",
       "      <td>1.145255</td>\n",
       "      <td>-0.981875</td>\n",
       "      <td>0.891988</td>\n",
       "      <td>0.256043</td>\n",
       "      <td>0.581544</td>\n",
       "      <td>1.551307</td>\n",
       "      <td>0.105428</td>\n",
       "    </tr>\n",
       "    <tr>\n",
       "      <th>21</th>\n",
       "      <td>-0.087232</td>\n",
       "      <td>1.313866</td>\n",
       "      <td>1.036228</td>\n",
       "      <td>-0.268738</td>\n",
       "      <td>0.158572</td>\n",
       "      <td>0.184088</td>\n",
       "      <td>0.382241</td>\n",
       "      <td>-0.901297</td>\n",
       "      <td>0.681738</td>\n",
       "      <td>-0.241413</td>\n",
       "      <td>0.318304</td>\n",
       "      <td>1.282942</td>\n",
       "      <td>0.073583</td>\n",
       "    </tr>\n",
       "    <tr>\n",
       "      <th>22</th>\n",
       "      <td>0.876275</td>\n",
       "      <td>-0.427600</td>\n",
       "      <td>-0.023821</td>\n",
       "      <td>-0.869308</td>\n",
       "      <td>0.088358</td>\n",
       "      <td>0.504554</td>\n",
       "      <td>0.854105</td>\n",
       "      <td>-0.740141</td>\n",
       "      <td>0.173634</td>\n",
       "      <td>-0.544212</td>\n",
       "      <td>0.669291</td>\n",
       "      <td>1.960915</td>\n",
       "      <td>0.917474</td>\n",
       "    </tr>\n",
       "    <tr>\n",
       "      <th>23</th>\n",
       "      <td>-0.186053</td>\n",
       "      <td>-0.660993</td>\n",
       "      <td>0.561033</td>\n",
       "      <td>-0.508966</td>\n",
       "      <td>-0.332922</td>\n",
       "      <td>0.296251</td>\n",
       "      <td>0.342082</td>\n",
       "      <td>-0.820719</td>\n",
       "      <td>-0.229346</td>\n",
       "      <td>-0.487978</td>\n",
       "      <td>0.581544</td>\n",
       "      <td>1.438311</td>\n",
       "      <td>0.853784</td>\n",
       "    </tr>\n",
       "    <tr>\n",
       "      <th>24</th>\n",
       "      <td>0.616869</td>\n",
       "      <td>-0.472483</td>\n",
       "      <td>0.890014</td>\n",
       "      <td>0.151661</td>\n",
       "      <td>-0.262708</td>\n",
       "      <td>0.376368</td>\n",
       "      <td>0.583034</td>\n",
       "      <td>-0.659563</td>\n",
       "      <td>0.121071</td>\n",
       "      <td>-0.665332</td>\n",
       "      <td>0.713164</td>\n",
       "      <td>1.706675</td>\n",
       "      <td>0.312420</td>\n",
       "    </tr>\n",
       "    <tr>\n",
       "      <th>25</th>\n",
       "      <td>0.061000</td>\n",
       "      <td>-0.257044</td>\n",
       "      <td>3.119772</td>\n",
       "      <td>1.653086</td>\n",
       "      <td>1.703265</td>\n",
       "      <td>0.536601</td>\n",
       "      <td>0.653312</td>\n",
       "      <td>0.871420</td>\n",
       "      <td>0.576613</td>\n",
       "      <td>-0.639377</td>\n",
       "      <td>0.757038</td>\n",
       "      <td>0.830961</td>\n",
       "      <td>0.264653</td>\n",
       "    </tr>\n",
       "    <tr>\n",
       "      <th>26</th>\n",
       "      <td>0.480990</td>\n",
       "      <td>-0.508390</td>\n",
       "      <td>0.926567</td>\n",
       "      <td>-1.019451</td>\n",
       "      <td>-0.473348</td>\n",
       "      <td>0.889114</td>\n",
       "      <td>0.914343</td>\n",
       "      <td>-0.176095</td>\n",
       "      <td>-0.246867</td>\n",
       "      <td>-0.111642</td>\n",
       "      <td>-0.164303</td>\n",
       "      <td>0.859210</td>\n",
       "      <td>1.426993</td>\n",
       "    </tr>\n",
       "    <tr>\n",
       "      <th>27</th>\n",
       "      <td>0.369816</td>\n",
       "      <td>-0.553273</td>\n",
       "      <td>-0.827996</td>\n",
       "      <td>-0.749194</td>\n",
       "      <td>-0.403135</td>\n",
       "      <td>0.168065</td>\n",
       "      <td>0.161368</td>\n",
       "      <td>-0.740141</td>\n",
       "      <td>-0.422075</td>\n",
       "      <td>-0.479326</td>\n",
       "      <td>0.274431</td>\n",
       "      <td>0.223610</td>\n",
       "      <td>1.713598</td>\n",
       "    </tr>\n",
       "    <tr>\n",
       "      <th>28</th>\n",
       "      <td>1.073917</td>\n",
       "      <td>-0.391694</td>\n",
       "      <td>1.584529</td>\n",
       "      <td>-0.028510</td>\n",
       "      <td>0.509638</td>\n",
       "      <td>1.049347</td>\n",
       "      <td>0.944462</td>\n",
       "      <td>0.065639</td>\n",
       "      <td>0.296279</td>\n",
       "      <td>-0.241413</td>\n",
       "      <td>1.283518</td>\n",
       "      <td>1.113449</td>\n",
       "      <td>0.535335</td>\n",
       "    </tr>\n",
       "    <tr>\n",
       "      <th>29</th>\n",
       "      <td>1.259207</td>\n",
       "      <td>-0.589180</td>\n",
       "      <td>-0.572122</td>\n",
       "      <td>-1.049479</td>\n",
       "      <td>-0.262708</td>\n",
       "      <td>0.568648</td>\n",
       "      <td>0.301923</td>\n",
       "      <td>-0.820719</td>\n",
       "      <td>0.681738</td>\n",
       "      <td>-0.154899</td>\n",
       "      <td>0.362177</td>\n",
       "      <td>1.381813</td>\n",
       "      <td>0.917474</td>\n",
       "    </tr>\n",
       "    <tr>\n",
       "      <th>...</th>\n",
       "      <td>...</td>\n",
       "      <td>...</td>\n",
       "      <td>...</td>\n",
       "      <td>...</td>\n",
       "      <td>...</td>\n",
       "      <td>...</td>\n",
       "      <td>...</td>\n",
       "      <td>...</td>\n",
       "      <td>...</td>\n",
       "      <td>...</td>\n",
       "      <td>...</td>\n",
       "      <td>...</td>\n",
       "      <td>...</td>\n",
       "    </tr>\n",
       "    <tr>\n",
       "      <th>148</th>\n",
       "      <td>0.394521</td>\n",
       "      <td>0.811175</td>\n",
       "      <td>0.049285</td>\n",
       "      <td>0.602088</td>\n",
       "      <td>-0.543562</td>\n",
       "      <td>-0.585031</td>\n",
       "      <td>-1.274305</td>\n",
       "      <td>0.710264</td>\n",
       "      <td>-0.597284</td>\n",
       "      <td>1.454261</td>\n",
       "      <td>-1.787619</td>\n",
       "      <td>-1.400699</td>\n",
       "      <td>-0.308556</td>\n",
       "    </tr>\n",
       "    <tr>\n",
       "      <th>149</th>\n",
       "      <td>0.098058</td>\n",
       "      <td>1.403632</td>\n",
       "      <td>-0.023821</td>\n",
       "      <td>0.602088</td>\n",
       "      <td>0.930918</td>\n",
       "      <td>-1.418243</td>\n",
       "      <td>-0.641805</td>\n",
       "      <td>-0.176095</td>\n",
       "      <td>-0.790013</td>\n",
       "      <td>1.878180</td>\n",
       "      <td>-1.699872</td>\n",
       "      <td>-1.810307</td>\n",
       "      <td>-0.627005</td>\n",
       "    </tr>\n",
       "    <tr>\n",
       "      <th>150</th>\n",
       "      <td>0.616869</td>\n",
       "      <td>0.703455</td>\n",
       "      <td>0.926567</td>\n",
       "      <td>1.352801</td>\n",
       "      <td>1.633052</td>\n",
       "      <td>-1.434267</td>\n",
       "      <td>-0.461091</td>\n",
       "      <td>-1.143031</td>\n",
       "      <td>-0.597284</td>\n",
       "      <td>1.532124</td>\n",
       "      <td>-1.612125</td>\n",
       "      <td>-1.852681</td>\n",
       "      <td>-0.786230</td>\n",
       "    </tr>\n",
       "    <tr>\n",
       "      <th>151</th>\n",
       "      <td>-0.260169</td>\n",
       "      <td>0.299507</td>\n",
       "      <td>0.414820</td>\n",
       "      <td>0.752231</td>\n",
       "      <td>0.860705</td>\n",
       "      <td>-1.306080</td>\n",
       "      <td>-0.671924</td>\n",
       "      <td>-0.981875</td>\n",
       "      <td>-0.579763</td>\n",
       "      <td>2.483778</td>\n",
       "      <td>-2.094732</td>\n",
       "      <td>-1.612565</td>\n",
       "      <td>-0.849920</td>\n",
       "    </tr>\n",
       "    <tr>\n",
       "      <th>152</th>\n",
       "      <td>0.135116</td>\n",
       "      <td>-0.391694</td>\n",
       "      <td>1.401762</td>\n",
       "      <td>1.803228</td>\n",
       "      <td>1.141558</td>\n",
       "      <td>-0.152402</td>\n",
       "      <td>-0.752242</td>\n",
       "      <td>-0.820719</td>\n",
       "      <td>-0.054137</td>\n",
       "      <td>0.883269</td>\n",
       "      <td>-1.524378</td>\n",
       "      <td>-1.810307</td>\n",
       "      <td>-1.025067</td>\n",
       "    </tr>\n",
       "    <tr>\n",
       "      <th>153</th>\n",
       "      <td>0.283348</td>\n",
       "      <td>0.865035</td>\n",
       "      <td>-0.316249</td>\n",
       "      <td>-0.298767</td>\n",
       "      <td>-0.122282</td>\n",
       "      <td>-0.793334</td>\n",
       "      <td>-1.204027</td>\n",
       "      <td>1.999513</td>\n",
       "      <td>0.489009</td>\n",
       "      <td>2.362658</td>\n",
       "      <td>-1.743745</td>\n",
       "      <td>-1.556068</td>\n",
       "      <td>-0.228944</td>\n",
       "    </tr>\n",
       "    <tr>\n",
       "      <th>154</th>\n",
       "      <td>-0.519575</td>\n",
       "      <td>-0.939268</td>\n",
       "      <td>-0.974210</td>\n",
       "      <td>0.151661</td>\n",
       "      <td>0.228785</td>\n",
       "      <td>-1.306080</td>\n",
       "      <td>-1.455019</td>\n",
       "      <td>1.354888</td>\n",
       "      <td>-0.334471</td>\n",
       "      <td>1.099554</td>\n",
       "      <td>-1.655999</td>\n",
       "      <td>-1.499570</td>\n",
       "      <td>-0.340401</td>\n",
       "    </tr>\n",
       "    <tr>\n",
       "      <th>155</th>\n",
       "      <td>0.209232</td>\n",
       "      <td>2.561618</td>\n",
       "      <td>-0.170035</td>\n",
       "      <td>0.752231</td>\n",
       "      <td>-0.473348</td>\n",
       "      <td>-0.889474</td>\n",
       "      <td>-1.404820</td>\n",
       "      <td>1.999513</td>\n",
       "      <td>-0.071658</td>\n",
       "      <td>1.229325</td>\n",
       "      <td>-1.568252</td>\n",
       "      <td>-1.598441</td>\n",
       "      <td>-0.069719</td>\n",
       "    </tr>\n",
       "    <tr>\n",
       "      <th>156</th>\n",
       "      <td>1.036859</td>\n",
       "      <td>1.601118</td>\n",
       "      <td>0.049285</td>\n",
       "      <td>0.001518</td>\n",
       "      <td>-0.754202</td>\n",
       "      <td>-0.793334</td>\n",
       "      <td>-1.204027</td>\n",
       "      <td>0.951998</td>\n",
       "      <td>-0.054137</td>\n",
       "      <td>1.709478</td>\n",
       "      <td>-1.699872</td>\n",
       "      <td>-1.372450</td>\n",
       "      <td>-0.849920</td>\n",
       "    </tr>\n",
       "    <tr>\n",
       "      <th>157</th>\n",
       "      <td>-0.680159</td>\n",
       "      <td>0.622666</td>\n",
       "      <td>0.999674</td>\n",
       "      <td>2.253656</td>\n",
       "      <td>-0.192495</td>\n",
       "      <td>-0.633101</td>\n",
       "      <td>-1.455019</td>\n",
       "      <td>2.160669</td>\n",
       "      <td>-0.790013</td>\n",
       "      <td>1.056297</td>\n",
       "      <td>-1.261138</td>\n",
       "      <td>-1.245330</td>\n",
       "      <td>0.423878</td>\n",
       "    </tr>\n",
       "    <tr>\n",
       "      <th>158</th>\n",
       "      <td>1.654492</td>\n",
       "      <td>-0.589180</td>\n",
       "      <td>1.218995</td>\n",
       "      <td>1.653086</td>\n",
       "      <td>-0.122282</td>\n",
       "      <td>0.808997</td>\n",
       "      <td>-0.722123</td>\n",
       "      <td>1.354888</td>\n",
       "      <td>1.943238</td>\n",
       "      <td>3.435432</td>\n",
       "      <td>-1.699872</td>\n",
       "      <td>-0.920468</td>\n",
       "      <td>-0.276711</td>\n",
       "    </tr>\n",
       "    <tr>\n",
       "      <th>159</th>\n",
       "      <td>0.592164</td>\n",
       "      <td>-0.598156</td>\n",
       "      <td>0.999674</td>\n",
       "      <td>0.902373</td>\n",
       "      <td>-0.754202</td>\n",
       "      <td>0.488531</td>\n",
       "      <td>-0.932956</td>\n",
       "      <td>1.274310</td>\n",
       "      <td>1.224884</td>\n",
       "      <td>2.894719</td>\n",
       "      <td>-1.699872</td>\n",
       "      <td>-1.174708</td>\n",
       "      <td>-0.404091</td>\n",
       "    </tr>\n",
       "    <tr>\n",
       "      <th>160</th>\n",
       "      <td>-0.791333</td>\n",
       "      <td>1.340796</td>\n",
       "      <td>0.049285</td>\n",
       "      <td>0.451946</td>\n",
       "      <td>-0.824415</td>\n",
       "      <td>0.007832</td>\n",
       "      <td>-1.113670</td>\n",
       "      <td>1.113154</td>\n",
       "      <td>-0.965221</td>\n",
       "      <td>1.121183</td>\n",
       "      <td>-1.743745</td>\n",
       "      <td>-1.457197</td>\n",
       "      <td>-0.722540</td>\n",
       "    </tr>\n",
       "    <tr>\n",
       "      <th>161</th>\n",
       "      <td>0.851569</td>\n",
       "      <td>0.829128</td>\n",
       "      <td>0.634140</td>\n",
       "      <td>0.151661</td>\n",
       "      <td>0.509638</td>\n",
       "      <td>-0.745264</td>\n",
       "      <td>-1.475098</td>\n",
       "      <td>1.113154</td>\n",
       "      <td>-1.385721</td>\n",
       "      <td>0.355534</td>\n",
       "      <td>0.011190</td>\n",
       "      <td>-1.118210</td>\n",
       "      <td>-0.213021</td>\n",
       "    </tr>\n",
       "    <tr>\n",
       "      <th>162</th>\n",
       "      <td>-0.186053</td>\n",
       "      <td>0.838105</td>\n",
       "      <td>0.780354</td>\n",
       "      <td>0.752231</td>\n",
       "      <td>0.439425</td>\n",
       "      <td>-1.033684</td>\n",
       "      <td>-1.434939</td>\n",
       "      <td>1.918935</td>\n",
       "      <td>-1.105388</td>\n",
       "      <td>0.225763</td>\n",
       "      <td>-0.383670</td>\n",
       "      <td>-0.708602</td>\n",
       "      <td>-0.563315</td>\n",
       "    </tr>\n",
       "    <tr>\n",
       "      <th>163</th>\n",
       "      <td>-0.050174</td>\n",
       "      <td>0.999684</td>\n",
       "      <td>-0.060375</td>\n",
       "      <td>-0.298767</td>\n",
       "      <td>0.439425</td>\n",
       "      <td>-1.450290</td>\n",
       "      <td>-1.334543</td>\n",
       "      <td>0.307374</td>\n",
       "      <td>-1.140430</td>\n",
       "      <td>0.095992</td>\n",
       "      <td>-1.217265</td>\n",
       "      <td>-1.217081</td>\n",
       "      <td>-0.228944</td>\n",
       "    </tr>\n",
       "    <tr>\n",
       "      <th>164</th>\n",
       "      <td>0.962743</td>\n",
       "      <td>0.380297</td>\n",
       "      <td>-0.243142</td>\n",
       "      <td>0.752231</td>\n",
       "      <td>-0.683988</td>\n",
       "      <td>-1.514383</td>\n",
       "      <td>-1.354622</td>\n",
       "      <td>0.387952</td>\n",
       "      <td>-0.982742</td>\n",
       "      <td>1.956043</td>\n",
       "      <td>-1.129518</td>\n",
       "      <td>-1.315952</td>\n",
       "      <td>-0.420013</td>\n",
       "    </tr>\n",
       "    <tr>\n",
       "      <th>165</th>\n",
       "      <td>0.900980</td>\n",
       "      <td>1.816558</td>\n",
       "      <td>-0.389355</td>\n",
       "      <td>0.902373</td>\n",
       "      <td>-0.824415</td>\n",
       "      <td>-1.626547</td>\n",
       "      <td>-1.565455</td>\n",
       "      <td>1.274310</td>\n",
       "      <td>-0.772492</td>\n",
       "      <td>0.675635</td>\n",
       "      <td>-0.778531</td>\n",
       "      <td>-1.217081</td>\n",
       "      <td>-0.722540</td>\n",
       "    </tr>\n",
       "    <tr>\n",
       "      <th>166</th>\n",
       "      <td>0.555106</td>\n",
       "      <td>1.224100</td>\n",
       "      <td>0.853460</td>\n",
       "      <td>1.052516</td>\n",
       "      <td>0.790492</td>\n",
       "      <td>-0.953567</td>\n",
       "      <td>-1.113670</td>\n",
       "      <td>0.549108</td>\n",
       "      <td>-0.229346</td>\n",
       "      <td>2.431870</td>\n",
       "      <td>-0.471417</td>\n",
       "      <td>-1.485445</td>\n",
       "      <td>-0.165254</td>\n",
       "    </tr>\n",
       "    <tr>\n",
       "      <th>167</th>\n",
       "      <td>-0.223111</td>\n",
       "      <td>0.927871</td>\n",
       "      <td>-0.243142</td>\n",
       "      <td>0.001518</td>\n",
       "      <td>-0.824415</td>\n",
       "      <td>-1.306080</td>\n",
       "      <td>-1.374701</td>\n",
       "      <td>0.307374</td>\n",
       "      <td>-1.087867</td>\n",
       "      <td>2.250190</td>\n",
       "      <td>-1.041771</td>\n",
       "      <td>-1.217081</td>\n",
       "      <td>-0.197099</td>\n",
       "    </tr>\n",
       "    <tr>\n",
       "      <th>168</th>\n",
       "      <td>0.715690</td>\n",
       "      <td>0.218717</td>\n",
       "      <td>1.182441</td>\n",
       "      <td>1.502943</td>\n",
       "      <td>0.369212</td>\n",
       "      <td>-1.193917</td>\n",
       "      <td>-1.193987</td>\n",
       "      <td>0.226796</td>\n",
       "      <td>-0.089179</td>\n",
       "      <td>1.558078</td>\n",
       "      <td>-0.954024</td>\n",
       "      <td>-1.146459</td>\n",
       "      <td>0.009893</td>\n",
       "    </tr>\n",
       "    <tr>\n",
       "      <th>169</th>\n",
       "      <td>0.493343</td>\n",
       "      <td>2.031997</td>\n",
       "      <td>1.803849</td>\n",
       "      <td>1.653086</td>\n",
       "      <td>0.860705</td>\n",
       "      <td>-0.504914</td>\n",
       "      <td>-1.073511</td>\n",
       "      <td>-0.740141</td>\n",
       "      <td>-0.842575</td>\n",
       "      <td>1.488867</td>\n",
       "      <td>-1.261138</td>\n",
       "      <td>-0.976966</td>\n",
       "      <td>-0.372246</td>\n",
       "    </tr>\n",
       "    <tr>\n",
       "      <th>170</th>\n",
       "      <td>-0.988975</td>\n",
       "      <td>0.622666</td>\n",
       "      <td>-0.170035</td>\n",
       "      <td>-0.148624</td>\n",
       "      <td>-0.262708</td>\n",
       "      <td>-1.674617</td>\n",
       "      <td>-1.545376</td>\n",
       "      <td>0.307374</td>\n",
       "      <td>-1.508367</td>\n",
       "      <td>0.191157</td>\n",
       "      <td>-1.305011</td>\n",
       "      <td>-1.104086</td>\n",
       "      <td>-0.754385</td>\n",
       "    </tr>\n",
       "    <tr>\n",
       "      <th>171</th>\n",
       "      <td>-0.284874</td>\n",
       "      <td>0.048161</td>\n",
       "      <td>-0.316249</td>\n",
       "      <td>0.001518</td>\n",
       "      <td>-0.964842</td>\n",
       "      <td>-1.450290</td>\n",
       "      <td>-1.525296</td>\n",
       "      <td>0.951998</td>\n",
       "      <td>-1.666055</td>\n",
       "      <td>2.094465</td>\n",
       "      <td>-1.699872</td>\n",
       "      <td>-1.386574</td>\n",
       "      <td>-0.881765</td>\n",
       "    </tr>\n",
       "    <tr>\n",
       "      <th>172</th>\n",
       "      <td>1.432144</td>\n",
       "      <td>0.155881</td>\n",
       "      <td>0.414820</td>\n",
       "      <td>0.151661</td>\n",
       "      <td>-0.613775</td>\n",
       "      <td>-0.985614</td>\n",
       "      <td>-1.334543</td>\n",
       "      <td>0.629686</td>\n",
       "      <td>-0.614804</td>\n",
       "      <td>2.007951</td>\n",
       "      <td>-1.480505</td>\n",
       "      <td>-1.273579</td>\n",
       "      <td>-0.276711</td>\n",
       "    </tr>\n",
       "    <tr>\n",
       "      <th>173</th>\n",
       "      <td>0.876275</td>\n",
       "      <td>2.974543</td>\n",
       "      <td>0.305159</td>\n",
       "      <td>0.301803</td>\n",
       "      <td>-0.332922</td>\n",
       "      <td>-0.985614</td>\n",
       "      <td>-1.424900</td>\n",
       "      <td>1.274310</td>\n",
       "      <td>-0.930179</td>\n",
       "      <td>1.142811</td>\n",
       "      <td>-1.392758</td>\n",
       "      <td>-1.231206</td>\n",
       "      <td>-0.021952</td>\n",
       "    </tr>\n",
       "    <tr>\n",
       "      <th>174</th>\n",
       "      <td>0.493343</td>\n",
       "      <td>1.412609</td>\n",
       "      <td>0.414820</td>\n",
       "      <td>1.052516</td>\n",
       "      <td>0.158572</td>\n",
       "      <td>-0.793334</td>\n",
       "      <td>-1.284344</td>\n",
       "      <td>0.549108</td>\n",
       "      <td>-0.316950</td>\n",
       "      <td>0.969783</td>\n",
       "      <td>-1.129518</td>\n",
       "      <td>-1.485445</td>\n",
       "      <td>0.009893</td>\n",
       "    </tr>\n",
       "    <tr>\n",
       "      <th>175</th>\n",
       "      <td>0.332758</td>\n",
       "      <td>1.744744</td>\n",
       "      <td>-0.389355</td>\n",
       "      <td>0.151661</td>\n",
       "      <td>1.422412</td>\n",
       "      <td>-1.129824</td>\n",
       "      <td>-1.344582</td>\n",
       "      <td>0.549108</td>\n",
       "      <td>-0.422075</td>\n",
       "      <td>2.224236</td>\n",
       "      <td>-1.612125</td>\n",
       "      <td>-1.485445</td>\n",
       "      <td>0.280575</td>\n",
       "    </tr>\n",
       "    <tr>\n",
       "      <th>176</th>\n",
       "      <td>0.209232</td>\n",
       "      <td>0.227694</td>\n",
       "      <td>0.012732</td>\n",
       "      <td>0.151661</td>\n",
       "      <td>1.422412</td>\n",
       "      <td>-1.033684</td>\n",
       "      <td>-1.354622</td>\n",
       "      <td>1.354888</td>\n",
       "      <td>-0.229346</td>\n",
       "      <td>1.834923</td>\n",
       "      <td>-1.568252</td>\n",
       "      <td>-1.400699</td>\n",
       "      <td>0.296498</td>\n",
       "    </tr>\n",
       "    <tr>\n",
       "      <th>177</th>\n",
       "      <td>1.395086</td>\n",
       "      <td>1.583165</td>\n",
       "      <td>1.365208</td>\n",
       "      <td>1.502943</td>\n",
       "      <td>-0.262708</td>\n",
       "      <td>-0.392751</td>\n",
       "      <td>-1.274305</td>\n",
       "      <td>1.596623</td>\n",
       "      <td>-0.422075</td>\n",
       "      <td>1.791666</td>\n",
       "      <td>-1.524378</td>\n",
       "      <td>-1.428948</td>\n",
       "      <td>-0.595160</td>\n",
       "    </tr>\n",
       "  </tbody>\n",
       "</table>\n",
       "<p>178 rows × 13 columns</p>\n",
       "</div>"
      ],
      "text/plain": [
       "           0         1         2         3         4         5         6   \\\n",
       "0    1.518613 -0.562250  0.232053 -1.169593  1.913905  0.808997  1.034819   \n",
       "1    0.246290 -0.499413 -0.827996 -2.490847  0.018145  0.568648  0.733629   \n",
       "2    0.196879  0.021231  1.109334 -0.268738  0.088358  0.808997  1.215533   \n",
       "3    1.691550 -0.346811  0.487926 -0.809251  0.930918  2.491446  1.466525   \n",
       "4    0.295700  0.227694  1.840403  0.451946  1.281985  0.808997  0.663351   \n",
       "5    1.481555 -0.517367  0.305159 -1.289707  0.860705  1.562093  1.366128   \n",
       "6    1.716255 -0.418624  0.305159 -1.469878 -0.262708  0.328298  0.492677   \n",
       "7    1.308617 -0.167278  0.890014 -0.569023  1.492625  0.488531  0.482637   \n",
       "8    2.259772 -0.625086 -0.718336 -1.650049 -0.192495  0.808997  0.954502   \n",
       "9    1.061565 -0.885409 -0.352802 -1.049479 -0.122282  1.097417  1.125176   \n",
       "10   1.358028 -0.158301 -0.243142 -0.448909  0.369212  1.049347  1.295850   \n",
       "11   1.382733 -0.768712 -0.170035 -0.809251 -0.332922 -0.152402  0.402320   \n",
       "12   0.925685 -0.544297  0.158946 -1.049479 -0.754202  0.488531  0.733629   \n",
       "13   2.160950 -0.544297  0.085839 -2.430790 -0.613775  1.289697  1.667318   \n",
       "14   1.703902 -0.418624  0.049285 -2.250619  0.158572  1.610163  1.617120   \n",
       "15   0.777454 -0.472483  1.218995 -0.689137  0.860705  0.889114  0.884224   \n",
       "16   1.605081 -0.373741  1.292101  0.151661  1.422412  0.808997  1.115136   \n",
       "17   1.024507 -0.687923  0.926567  0.151661  1.071345  1.049347  1.376168   \n",
       "18   1.469202 -0.669969  0.414820 -0.899337  0.579852  1.610163  1.908270   \n",
       "19   0.789806  0.685502  0.707247 -1.289707  1.141558  0.648764  1.004700   \n",
       "20   1.308617 -0.634063 -0.316249 -1.049479  1.843692  1.129464  1.145255   \n",
       "21  -0.087232  1.313866  1.036228 -0.268738  0.158572  0.184088  0.382241   \n",
       "22   0.876275 -0.427600 -0.023821 -0.869308  0.088358  0.504554  0.854105   \n",
       "23  -0.186053 -0.660993  0.561033 -0.508966 -0.332922  0.296251  0.342082   \n",
       "24   0.616869 -0.472483  0.890014  0.151661 -0.262708  0.376368  0.583034   \n",
       "25   0.061000 -0.257044  3.119772  1.653086  1.703265  0.536601  0.653312   \n",
       "26   0.480990 -0.508390  0.926567 -1.019451 -0.473348  0.889114  0.914343   \n",
       "27   0.369816 -0.553273 -0.827996 -0.749194 -0.403135  0.168065  0.161368   \n",
       "28   1.073917 -0.391694  1.584529 -0.028510  0.509638  1.049347  0.944462   \n",
       "29   1.259207 -0.589180 -0.572122 -1.049479 -0.262708  0.568648  0.301923   \n",
       "..        ...       ...       ...       ...       ...       ...       ...   \n",
       "148  0.394521  0.811175  0.049285  0.602088 -0.543562 -0.585031 -1.274305   \n",
       "149  0.098058  1.403632 -0.023821  0.602088  0.930918 -1.418243 -0.641805   \n",
       "150  0.616869  0.703455  0.926567  1.352801  1.633052 -1.434267 -0.461091   \n",
       "151 -0.260169  0.299507  0.414820  0.752231  0.860705 -1.306080 -0.671924   \n",
       "152  0.135116 -0.391694  1.401762  1.803228  1.141558 -0.152402 -0.752242   \n",
       "153  0.283348  0.865035 -0.316249 -0.298767 -0.122282 -0.793334 -1.204027   \n",
       "154 -0.519575 -0.939268 -0.974210  0.151661  0.228785 -1.306080 -1.455019   \n",
       "155  0.209232  2.561618 -0.170035  0.752231 -0.473348 -0.889474 -1.404820   \n",
       "156  1.036859  1.601118  0.049285  0.001518 -0.754202 -0.793334 -1.204027   \n",
       "157 -0.680159  0.622666  0.999674  2.253656 -0.192495 -0.633101 -1.455019   \n",
       "158  1.654492 -0.589180  1.218995  1.653086 -0.122282  0.808997 -0.722123   \n",
       "159  0.592164 -0.598156  0.999674  0.902373 -0.754202  0.488531 -0.932956   \n",
       "160 -0.791333  1.340796  0.049285  0.451946 -0.824415  0.007832 -1.113670   \n",
       "161  0.851569  0.829128  0.634140  0.151661  0.509638 -0.745264 -1.475098   \n",
       "162 -0.186053  0.838105  0.780354  0.752231  0.439425 -1.033684 -1.434939   \n",
       "163 -0.050174  0.999684 -0.060375 -0.298767  0.439425 -1.450290 -1.334543   \n",
       "164  0.962743  0.380297 -0.243142  0.752231 -0.683988 -1.514383 -1.354622   \n",
       "165  0.900980  1.816558 -0.389355  0.902373 -0.824415 -1.626547 -1.565455   \n",
       "166  0.555106  1.224100  0.853460  1.052516  0.790492 -0.953567 -1.113670   \n",
       "167 -0.223111  0.927871 -0.243142  0.001518 -0.824415 -1.306080 -1.374701   \n",
       "168  0.715690  0.218717  1.182441  1.502943  0.369212 -1.193917 -1.193987   \n",
       "169  0.493343  2.031997  1.803849  1.653086  0.860705 -0.504914 -1.073511   \n",
       "170 -0.988975  0.622666 -0.170035 -0.148624 -0.262708 -1.674617 -1.545376   \n",
       "171 -0.284874  0.048161 -0.316249  0.001518 -0.964842 -1.450290 -1.525296   \n",
       "172  1.432144  0.155881  0.414820  0.151661 -0.613775 -0.985614 -1.334543   \n",
       "173  0.876275  2.974543  0.305159  0.301803 -0.332922 -0.985614 -1.424900   \n",
       "174  0.493343  1.412609  0.414820  1.052516  0.158572 -0.793334 -1.284344   \n",
       "175  0.332758  1.744744 -0.389355  0.151661  1.422412 -1.129824 -1.344582   \n",
       "176  0.209232  0.227694  0.012732  0.151661  1.422412 -1.033684 -1.354622   \n",
       "177  1.395086  1.583165  1.365208  1.502943 -0.262708 -0.392751 -1.274305   \n",
       "\n",
       "           7         8         9         10        11        12  \n",
       "0   -0.659563  1.224884  0.251717  0.362177  1.847920  1.013009  \n",
       "1   -0.820719 -0.544721 -0.293321  0.406051  1.113449  0.965242  \n",
       "2   -0.498407  2.135968  0.269020  0.318304  0.788587  1.395148  \n",
       "3   -0.981875  1.032155  1.186068 -0.427544  1.184071  2.334574  \n",
       "4    0.226796  0.401404 -0.319276  0.362177  0.449601 -0.037874  \n",
       "5   -0.176095  0.664217  0.731870  0.406051  0.336606  2.239039  \n",
       "6   -0.498407  0.681738  0.083015  0.274431  1.367689  1.729520  \n",
       "7   -0.417829 -0.597284 -0.003499  0.449924  1.367689  1.745442  \n",
       "8   -0.578985  0.681738  0.061386  0.537671  0.336606  0.949319  \n",
       "9   -1.143031  0.453967  0.935177  0.230557  1.325316  0.949319  \n",
       "10  -1.143031  1.382572  0.299300  1.283518  0.788587  2.430109  \n",
       "11  -0.820719 -0.036617 -0.025128  0.932531  0.294232  1.697675  \n",
       "12  -0.578985  0.383884  0.234414  0.844785  0.407228  1.825055  \n",
       "13   0.549108  2.135968  0.147900  1.283518  0.167113  1.283691  \n",
       "14  -0.578985  2.398780  1.056297  1.064151  0.548472  2.547935  \n",
       "15  -0.498407 -0.229346  0.969783  1.415139  0.378979  1.793210  \n",
       "16  -0.256673  0.664217  0.493956  0.493797  0.054117  1.697675  \n",
       "17   0.307374  0.226196  0.666984  0.757038 -0.058878  1.220001  \n",
       "18  -0.337251  0.471488  1.575381  1.195772  0.294232  2.971473  \n",
       "19  -1.545922  0.121071  0.018129  0.011190  1.056952  0.312420  \n",
       "20  -0.981875  0.891988  0.256043  0.581544  1.551307  0.105428  \n",
       "21  -0.901297  0.681738 -0.241413  0.318304  1.282942  0.073583  \n",
       "22  -0.740141  0.173634 -0.544212  0.669291  1.960915  0.917474  \n",
       "23  -0.820719 -0.229346 -0.487978  0.581544  1.438311  0.853784  \n",
       "24  -0.659563  0.121071 -0.665332  0.713164  1.706675  0.312420  \n",
       "25   0.871420  0.576613 -0.639377  0.757038  0.830961  0.264653  \n",
       "26  -0.176095 -0.246867 -0.111642 -0.164303  0.859210  1.426993  \n",
       "27  -0.740141 -0.422075 -0.479326  0.274431  0.223610  1.713598  \n",
       "28   0.065639  0.296279 -0.241413  1.283518  1.113449  0.535335  \n",
       "29  -0.820719  0.681738 -0.154899  0.362177  1.381813  0.917474  \n",
       "..        ...       ...       ...       ...       ...       ...  \n",
       "148  0.710264 -0.597284  1.454261 -1.787619 -1.400699 -0.308556  \n",
       "149 -0.176095 -0.790013  1.878180 -1.699872 -1.810307 -0.627005  \n",
       "150 -1.143031 -0.597284  1.532124 -1.612125 -1.852681 -0.786230  \n",
       "151 -0.981875 -0.579763  2.483778 -2.094732 -1.612565 -0.849920  \n",
       "152 -0.820719 -0.054137  0.883269 -1.524378 -1.810307 -1.025067  \n",
       "153  1.999513  0.489009  2.362658 -1.743745 -1.556068 -0.228944  \n",
       "154  1.354888 -0.334471  1.099554 -1.655999 -1.499570 -0.340401  \n",
       "155  1.999513 -0.071658  1.229325 -1.568252 -1.598441 -0.069719  \n",
       "156  0.951998 -0.054137  1.709478 -1.699872 -1.372450 -0.849920  \n",
       "157  2.160669 -0.790013  1.056297 -1.261138 -1.245330  0.423878  \n",
       "158  1.354888  1.943238  3.435432 -1.699872 -0.920468 -0.276711  \n",
       "159  1.274310  1.224884  2.894719 -1.699872 -1.174708 -0.404091  \n",
       "160  1.113154 -0.965221  1.121183 -1.743745 -1.457197 -0.722540  \n",
       "161  1.113154 -1.385721  0.355534  0.011190 -1.118210 -0.213021  \n",
       "162  1.918935 -1.105388  0.225763 -0.383670 -0.708602 -0.563315  \n",
       "163  0.307374 -1.140430  0.095992 -1.217265 -1.217081 -0.228944  \n",
       "164  0.387952 -0.982742  1.956043 -1.129518 -1.315952 -0.420013  \n",
       "165  1.274310 -0.772492  0.675635 -0.778531 -1.217081 -0.722540  \n",
       "166  0.549108 -0.229346  2.431870 -0.471417 -1.485445 -0.165254  \n",
       "167  0.307374 -1.087867  2.250190 -1.041771 -1.217081 -0.197099  \n",
       "168  0.226796 -0.089179  1.558078 -0.954024 -1.146459  0.009893  \n",
       "169 -0.740141 -0.842575  1.488867 -1.261138 -0.976966 -0.372246  \n",
       "170  0.307374 -1.508367  0.191157 -1.305011 -1.104086 -0.754385  \n",
       "171  0.951998 -1.666055  2.094465 -1.699872 -1.386574 -0.881765  \n",
       "172  0.629686 -0.614804  2.007951 -1.480505 -1.273579 -0.276711  \n",
       "173  1.274310 -0.930179  1.142811 -1.392758 -1.231206 -0.021952  \n",
       "174  0.549108 -0.316950  0.969783 -1.129518 -1.485445  0.009893  \n",
       "175  0.549108 -0.422075  2.224236 -1.612125 -1.485445  0.280575  \n",
       "176  1.354888 -0.229346  1.834923 -1.568252 -1.400699  0.296498  \n",
       "177  1.596623 -0.422075  1.791666 -1.524378 -1.428948 -0.595160  \n",
       "\n",
       "[178 rows x 13 columns]"
      ]
     },
     "execution_count": 81,
     "metadata": {},
     "output_type": "execute_result"
    }
   ],
   "source": [
    "DataFrame(Xstd)"
   ]
  },
  {
   "cell_type": "markdown",
   "metadata": {},
   "source": [
    "#### 연습\n",
    "\n",
    "스케일의 효과를 확인하기 위해, 스케일을 하지 않은 데이터와 스케일을 한 데이터에 대해 LR 모델에 대해 C의 값을 변화하면서 훈련하고 평가합니다."
   ]
  },
  {
   "cell_type": "code",
   "execution_count": 82,
   "metadata": {
    "collapsed": true
   },
   "outputs": [],
   "source": [
    "X_tr, X_te, Xstd_tr, Xstd_te, y_tr, y_te = train_test_split(\n",
    "    X, Xstd, y, test_size=0.3)"
   ]
  },
  {
   "cell_type": "code",
   "execution_count": 87,
   "metadata": {},
   "outputs": [],
   "source": [
    "results = {'raw': [], 'std': []}\n",
    "for C in [0.01, 0.1, 1., 10., 100., 1000.]:    \n",
    "    model = LogisticRegression(C=C)\n",
    "    model.fit(X_tr, y_tr)\n",
    "    results['raw'].append((\n",
    "        C, model.score(X_tr, y_tr), model.score(X_te, y_te)))    \n",
    "    \n",
    "    model.fit(Xstd_tr, y_tr)\n",
    "    results['std'].append((\n",
    "        C, model.score(Xstd_tr, y_tr), model.score(Xstd_te, y_te)))"
   ]
  },
  {
   "cell_type": "code",
   "execution_count": 100,
   "metadata": {
    "collapsed": true
   },
   "outputs": [
    {
     "data": {
      "text/plain": [
       "<matplotlib.axes._subplots.AxesSubplot at 0xe0fb898>"
      ]
     },
     "execution_count": 100,
     "metadata": {},
     "output_type": "execute_result"
    },
    {
     "name": "stderr",
     "output_type": "stream",
     "text": [
      "C:\\ProgramData\\Anaconda3\\lib\\site-packages\\matplotlib\\font_manager.py:1297: UserWarning: findfont: Font family ['San Serif'] not found. Falling back to DejaVu Sans\n",
      "  (prop.get_family(), self.defaultFamily[fontext]))\n"
     ]
    },
    {
     "data": {
      "image/png": "[encoded data removed]",
      "text/plain": [
       "<matplotlib.figure.Figure at 0xe095048>"
      ]
     },
     "metadata": {},
     "output_type": "display_data"
    }
   ],
   "source": [
    "report_raw = DataFrame(results['raw'])\n",
    "report_raw.columns = ['C', 'train', 'test']\n",
    "report_raw = report_raw.set_index('C')\n",
    "report_raw.plot(logx=True, style=['go--', 'ro--'], ylim=(0.7, 1.05))"
   ]
  },
  {
   "cell_type": "code",
   "execution_count": 101,
   "metadata": {
    "collapsed": true
   },
   "outputs": [
    {
     "data": {
      "text/plain": [
       "<matplotlib.axes._subplots.AxesSubplot at 0xe3a4128>"
      ]
     },
     "execution_count": 101,
     "metadata": {},
     "output_type": "execute_result"
    },
    {
     "name": "stderr",
     "output_type": "stream",
     "text": [
      "C:\\ProgramData\\Anaconda3\\lib\\site-packages\\matplotlib\\font_manager.py:1297: UserWarning: findfont: Font family ['San Serif'] not found. Falling back to DejaVu Sans\n",
      "  (prop.get_family(), self.defaultFamily[fontext]))\n"
     ]
    },
    {
     "data": {
      "image/png": "[encoded data removed]",
      "text/plain": [
       "<matplotlib.figure.Figure at 0xe366358>"
      ]
     },
     "metadata": {},
     "output_type": "display_data"
    }
   ],
   "source": [
    "report_std = DataFrame(results['std'])\n",
    "report_std.columns = ['C', 'train', 'test']\n",
    "report_std = report_std.set_index('C')\n",
    "report_std.plot(logx=True, style=['go--', 'ro--'], ylim=(0.7, 1.05))"
   ]
  },
  {
   "cell_type": "code",
   "execution_count": 103,
   "metadata": {
    "collapsed": true
   },
   "outputs": [],
   "source": [
    "from sklearn.decomposition import PCA"
   ]
  },
  {
   "cell_type": "code",
   "execution_count": 104,
   "metadata": {
    "collapsed": true
   },
   "outputs": [],
   "source": [
    "pca = PCA(n_components=2)"
   ]
  },
  {
   "cell_type": "code",
   "execution_count": 113,
   "metadata": {
    "collapsed": true
   },
   "outputs": [],
   "source": [
    "Xpca = pca.fit_transform(Xstd)"
   ]
  },
  {
   "cell_type": "code",
   "execution_count": 114,
   "metadata": {},
   "outputs": [
    {
     "data": {
      "text/plain": [
       "(178, 13)"
      ]
     },
     "execution_count": 114,
     "metadata": {},
     "output_type": "execute_result"
    }
   ],
   "source": [
    "X.shape"
   ]
  },
  {
   "cell_type": "code",
   "execution_count": 115,
   "metadata": {},
   "outputs": [
    {
     "data": {
      "text/plain": [
       "(178, 2)"
      ]
     },
     "execution_count": 115,
     "metadata": {},
     "output_type": "execute_result"
    }
   ],
   "source": [
    "Xpca.shape"
   ]
  },
  {
   "cell_type": "code",
   "execution_count": 116,
   "metadata": {},
   "outputs": [],
   "source": [
    "X_tr, X_te, Xpca_tr, Xpca_te, y_tr, y_te = train_test_split(\n",
    "    X, Xpca, y, test_size=0.3)"
   ]
  },
  {
   "cell_type": "code",
   "execution_count": 117,
   "metadata": {
    "collapsed": true
   },
   "outputs": [],
   "source": [
    "model = LogisticRegression(C=1.0)"
   ]
  },
  {
   "cell_type": "code",
   "execution_count": 118,
   "metadata": {},
   "outputs": [
    {
     "data": {
      "text/plain": [
       "0.92592592592592593"
      ]
     },
     "execution_count": 118,
     "metadata": {},
     "output_type": "execute_result"
    }
   ],
   "source": [
    "model.fit(X_tr, y_tr).score(X_te, y_te)"
   ]
  },
  {
   "cell_type": "code",
   "execution_count": 119,
   "metadata": {},
   "outputs": [
    {
     "data": {
      "text/plain": [
       "0.94444444444444442"
      ]
     },
     "execution_count": 119,
     "metadata": {},
     "output_type": "execute_result"
    }
   ],
   "source": [
    "model.fit(Xpca_tr, y_tr).score(Xpca_te, y_te)"
   ]
  },
  {
   "cell_type": "code",
   "execution_count": 120,
   "metadata": {
    "collapsed": true
   },
   "outputs": [],
   "source": [
    "pca = PCA(n_components=None)"
   ]
  },
  {
   "cell_type": "code",
   "execution_count": 121,
   "metadata": {
    "collapsed": true
   },
   "outputs": [
    {
     "data": {
      "text/plain": [
       "PCA(copy=True, iterated_power='auto', n_components=None, random_state=None,\n",
       "  svd_solver='auto', tol=0.0, whiten=False)"
      ]
     },
     "execution_count": 121,
     "metadata": {},
     "output_type": "execute_result"
    }
   ],
   "source": [
    "pca.fit(Xstd)"
   ]
  },
  {
   "cell_type": "code",
   "execution_count": 123,
   "metadata": {},
   "outputs": [],
   "source": [
    "기여도 = pca.explained_variance_ratio_"
   ]
  },
  {
   "cell_type": "code",
   "execution_count": 125,
   "metadata": {
    "collapsed": true
   },
   "outputs": [
    {
     "data": {
      "text/plain": [
       "<matplotlib.axes._subplots.AxesSubplot at 0xe547cc0>"
      ]
     },
     "execution_count": 125,
     "metadata": {},
     "output_type": "execute_result"
    },
    {
     "name": "stderr",
     "output_type": "stream",
     "text": [
      "C:\\ProgramData\\Anaconda3\\lib\\site-packages\\matplotlib\\font_manager.py:1297: UserWarning: findfont: Font family ['San Serif'] not found. Falling back to DejaVu Sans\n",
      "  (prop.get_family(), self.defaultFamily[fontext]))\n"
     ]
    },
    {
     "data": {
      "image/png": "[encoded data removed]",
      "text/plain": [
       "<matplotlib.figure.Figure at 0xe5472e8>"
      ]
     },
     "metadata": {},
     "output_type": "display_data"
    }
   ],
   "source": [
    "Series(기여도, index=wine.columns[1:]).plot(kind='barh')"
   ]
  },
  {
   "cell_type": "markdown",
   "metadata": {},
   "source": [
    "TODO: PCA 결과 산포도 그래프"
   ]
  },
  {
   "cell_type": "code",
   "execution_count": null,
   "metadata": {
    "collapsed": true
   },
   "outputs": [],
   "source": []
  },
  {
   "cell_type": "code",
   "execution_count": 126,
   "metadata": {
    "collapsed": true
   },
   "outputs": [],
   "source": [
    "from sklearn.datasets import make_moons"
   ]
  },
  {
   "cell_type": "code",
   "execution_count": 127,
   "metadata": {
    "collapsed": true
   },
   "outputs": [],
   "source": [
    "X, y = make_moons(n_samples=100)"
   ]
  },
  {
   "cell_type": "code",
   "execution_count": 129,
   "metadata": {},
   "outputs": [
    {
     "data": {
      "text/plain": [
       "<matplotlib.axes._subplots.AxesSubplot at 0xeb4e5c0>"
      ]
     },
     "execution_count": 129,
     "metadata": {},
     "output_type": "execute_result"
    },
    {
     "name": "stderr",
     "output_type": "stream",
     "text": [
      "C:\\ProgramData\\Anaconda3\\lib\\site-packages\\matplotlib\\font_manager.py:1297: UserWarning: findfont: Font family ['San Serif'] not found. Falling back to DejaVu Sans\n",
      "  (prop.get_family(), self.defaultFamily[fontext]))\n"
     ]
    },
    {
     "data": {
      "image/png": "[encoded data removed]",
      "text/plain": [
       "<matplotlib.figure.Figure at 0xe450a20>"
      ]
     },
     "metadata": {},
     "output_type": "display_data"
    }
   ],
   "source": [
    "c = get_colormap(y, colors='rb')\n",
    "DataFrame(X).plot(kind='scatter', x=0, y=1, c=c)"
   ]
  },
  {
   "cell_type": "code",
   "execution_count": 130,
   "metadata": {
    "collapsed": true
   },
   "outputs": [],
   "source": [
    "pca = PCA(n_components=2)"
   ]
  },
  {
   "cell_type": "code",
   "execution_count": 131,
   "metadata": {
    "collapsed": true
   },
   "outputs": [],
   "source": [
    "Xpca = pca.fit_transform(X)"
   ]
  },
  {
   "cell_type": "code",
   "execution_count": 132,
   "metadata": {},
   "outputs": [
    {
     "data": {
      "text/plain": [
       "<matplotlib.axes._subplots.AxesSubplot at 0xe648940>"
      ]
     },
     "execution_count": 132,
     "metadata": {},
     "output_type": "execute_result"
    },
    {
     "name": "stderr",
     "output_type": "stream",
     "text": [
      "C:\\ProgramData\\Anaconda3\\lib\\site-packages\\matplotlib\\font_manager.py:1297: UserWarning: findfont: Font family ['San Serif'] not found. Falling back to DejaVu Sans\n",
      "  (prop.get_family(), self.defaultFamily[fontext]))\n"
     ]
    },
    {
     "data": {
      "image/png": "[encoded data removed]",
      "text/plain": [
       "<matplotlib.figure.Figure at 0xeb43da0>"
      ]
     },
     "metadata": {},
     "output_type": "display_data"
    }
   ],
   "source": [
    "c = get_colormap(y, colors='rb')\n",
    "DataFrame(Xpca).plot(kind='scatter', x=0, y=1, c=c)"
   ]
  }
 ],
 "metadata": {
  "kernelspec": {
   "display_name": "Python 3",
   "language": "python",
   "name": "python3"
  },
  "language_info": {
   "codemirror_mode": {
    "name": "ipython",
    "version": 3
   },
   "file_extension": ".py",
   "mimetype": "text/x-python",
   "name": "python",
   "nbconvert_exporter": "python",
   "pygments_lexer": "ipython3",
   "version": "3.6.1"
  }
 },
 "nbformat": 4,
 "nbformat_minor": 2
}
