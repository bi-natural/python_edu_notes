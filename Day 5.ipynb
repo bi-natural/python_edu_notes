{
 "cells": [
  {
   "cell_type": "code",
   "execution_count": null,
   "metadata": {
    "collapsed": true
   },
   "outputs": [],
   "source": [
    "# Numpy - numerical manipulation\n",
    "import numpy as np\n",
    "\n",
    "# Pandas - data I/O, dataset maninpultion\n",
    "from pandas import Series, DataFrame\n",
    "import pandas as pd\n",
    "\n",
    "# Scikit-Learn - easy ML libraries\n",
    "from sklearn.model_selection import train_test_split\n",
    "from sklearn.preprocessing import StandardScaler\n",
    "from sklearn.linear_model import LogisticRegression\n",
    "\n",
    "# Matplotlib - visualization\n",
    "import matplotlib.pyplot as plt\n",
    "plt.rc('font', family='Malgun Gothic')\n",
    "from plot_util import get_colormap\n",
    "%matplotlib inline"
   ]
  },
  {
   "cell_type": "markdown",
   "metadata": {},
   "source": [
    "## Keras "
   ]
  },
  {
   "cell_type": "code",
   "execution_count": 2,
   "metadata": {},
   "outputs": [
    {
     "name": "stderr",
     "output_type": "stream",
     "text": [
      "Using TensorFlow backend.\n"
     ]
    }
   ],
   "source": [
    "import keras"
   ]
  },
  {
   "cell_type": "code",
   "execution_count": 3,
   "metadata": {
    "collapsed": true
   },
   "outputs": [],
   "source": [
    "from keras.datasets import mnist"
   ]
  },
  {
   "cell_type": "code",
   "execution_count": 4,
   "metadata": {},
   "outputs": [
    {
     "name": "stdout",
     "output_type": "stream",
     "text": [
      "Downloading data from https://s3.amazonaws.com/img-datasets/mnist.npz\n",
      "11493376/11490434 [==============================] - 5s 0us/step\n"
     ]
    }
   ],
   "source": [
    "(X_tr, y_tr), (X_te, y_te) = mnist.load_data()"
   ]
  },
  {
   "cell_type": "code",
   "execution_count": 12,
   "metadata": {},
   "outputs": [
    {
     "data": {
      "text/plain": [
       "(numpy.ndarray, dtype('float32'), (60000, 28, 28))"
      ]
     },
     "execution_count": 12,
     "metadata": {},
     "output_type": "execute_result"
    }
   ],
   "source": [
    "type(X_tr), X_tr.dtype, X_tr.shape"
   ]
  },
  {
   "cell_type": "code",
   "execution_count": 8,
   "metadata": {},
   "outputs": [
    {
     "data": {
      "text/plain": [
       "(numpy.ndarray, (60000,), array([5], dtype=uint8))"
      ]
     },
     "execution_count": 8,
     "metadata": {},
     "output_type": "execute_result"
    }
   ],
   "source": [
    "type(y_tr), y_tr.shape, y_tr[:1]"
   ]
  },
  {
   "cell_type": "code",
   "execution_count": 10,
   "metadata": {},
   "outputs": [],
   "source": [
    "X_tr = X_tr.astype('float32')\n",
    "X_te = X_te.astype('float32')"
   ]
  },
  {
   "cell_type": "code",
   "execution_count": null,
   "metadata": {
    "collapsed": true
   },
   "outputs": [],
   "source": [
    "X_tr.max(), X_tr.min()"
   ]
  },
  {
   "cell_type": "code",
   "execution_count": 15,
   "metadata": {
    "scrolled": true
   },
   "outputs": [],
   "source": [
    "# X: 2D --> 1D\n",
    "X_tr = X_tr.reshape(60000, 28*28)\n",
    "X_te = X_te.reshape(10000, 28*28)"
   ]
  },
  {
   "cell_type": "code",
   "execution_count": 13,
   "metadata": {
    "collapsed": true
   },
   "outputs": [],
   "source": [
    "scaler = StandardScaler()"
   ]
  },
  {
   "cell_type": "code",
   "execution_count": 16,
   "metadata": {},
   "outputs": [],
   "source": [
    "Xsca_tr = scaler.fit_transform(X_tr)\n",
    "Xsca_te = scaler.fit_transform(X_te)"
   ]
  },
  {
   "cell_type": "code",
   "execution_count": 18,
   "metadata": {
    "collapsed": true
   },
   "outputs": [],
   "source": [
    "# y: one-hot encoding (y -> Y)\n",
    "from keras.utils import np_utils\n",
    "\n",
    "Y_tr = np_utils.to_categorical(y_tr)\n",
    "Y_te = np_utils.to_categorical(y_te)"
   ]
  },
  {
   "cell_type": "code",
   "execution_count": 19,
   "metadata": {
    "collapsed": true
   },
   "outputs": [],
   "source": [
    "# Model selection\n",
    "\n",
    "from keras.models import Sequential\n",
    "model = Sequential()"
   ]
  },
  {
   "cell_type": "code",
   "execution_count": 20,
   "metadata": {
    "collapsed": true
   },
   "outputs": [],
   "source": [
    "from keras.layers.core import Dense\n",
    "\n",
    "layer = Dense(10, input_shape=(784,), activation='softmax')"
   ]
  },
  {
   "cell_type": "code",
   "execution_count": 21,
   "metadata": {
    "collapsed": true
   },
   "outputs": [],
   "source": [
    "model.add(layer)"
   ]
  },
  {
   "cell_type": "code",
   "execution_count": 22,
   "metadata": {},
   "outputs": [
    {
     "name": "stdout",
     "output_type": "stream",
     "text": [
      "_________________________________________________________________\n",
      "Layer (type)                 Output Shape              Param #   \n",
      "=================================================================\n",
      "dense_1 (Dense)              (None, 10)                7850      \n",
      "=================================================================\n",
      "Total params: 7,850\n",
      "Trainable params: 7,850\n",
      "Non-trainable params: 0\n",
      "_________________________________________________________________\n"
     ]
    }
   ],
   "source": [
    "model.summary()"
   ]
  },
  {
   "cell_type": "code",
   "execution_count": 23,
   "metadata": {
    "collapsed": true
   },
   "outputs": [],
   "source": [
    "model.compile(loss='categorical_crossentropy',\n",
    "             optimizer='sgd',\n",
    "             metrics=['accuracy'])"
   ]
  },
  {
   "cell_type": "code",
   "execution_count": 30,
   "metadata": {
    "collapsed": true
   },
   "outputs": [
    {
     "name": "stdout",
     "output_type": "stream",
     "text": [
      "Train on 48000 samples, validate on 12000 samples\n",
      "Epoch 1/200\n",
      "48000/48000 [==============================] - 1s 12us/step - loss: 4.7038 - acc: 0.5397 - val_loss: 2.2885 - val_acc: 0.7232\n",
      "Epoch 2/200\n",
      "48000/48000 [==============================] - 1s 12us/step - loss: 1.6522 - acc: 0.7812 - val_loss: 1.0753 - val_acc: 0.8350\n",
      "Epoch 3/200\n",
      "48000/48000 [==============================] - 1s 12us/step - loss: 1.0054 - acc: 0.8435 - val_loss: 0.7925 - val_acc: 0.8650\n",
      "Epoch 4/200\n",
      "48000/48000 [==============================] - 1s 12us/step - loss: 0.7710 - acc: 0.8677 - val_loss: 0.6562 - val_acc: 0.8814\n",
      "Epoch 5/200\n",
      "48000/48000 [==============================] - 1s 12us/step - loss: 0.6542 - acc: 0.8813 - val_loss: 0.5864 - val_acc: 0.8902\n",
      "Epoch 6/200\n",
      "48000/48000 [==============================] - 1s 12us/step - loss: 0.5898 - acc: 0.8896 - val_loss: 0.5457 - val_acc: 0.8959\n",
      "Epoch 7/200\n",
      "48000/48000 [==============================] - 1s 12us/step - loss: 0.5479 - acc: 0.8946 - val_loss: 0.5176 - val_acc: 0.8997\n",
      "Epoch 8/200\n",
      "48000/48000 [==============================] - 1s 12us/step - loss: 0.5162 - acc: 0.8987 - val_loss: 0.4960 - val_acc: 0.9026\n",
      "Epoch 9/200\n",
      "48000/48000 [==============================] - 1s 12us/step - loss: 0.4911 - acc: 0.9020 - val_loss: 0.4790 - val_acc: 0.9055\n",
      "Epoch 10/200\n",
      "48000/48000 [==============================] - 1s 11us/step - loss: 0.4702 - acc: 0.9046 - val_loss: 0.4639 - val_acc: 0.9072\n",
      "Epoch 11/200\n",
      "48000/48000 [==============================] - 1s 12us/step - loss: 0.4524 - acc: 0.9070 - val_loss: 0.4514 - val_acc: 0.9094\n",
      "Epoch 12/200\n",
      "48000/48000 [==============================] - 1s 12us/step - loss: 0.4370 - acc: 0.9090 - val_loss: 0.4405 - val_acc: 0.9103\n",
      "Epoch 13/200\n",
      "48000/48000 [==============================] - 1s 11us/step - loss: 0.4233 - acc: 0.9107 - val_loss: 0.4305 - val_acc: 0.9111\n",
      "Epoch 14/200\n",
      "48000/48000 [==============================] - 1s 12us/step - loss: 0.4112 - acc: 0.9119 - val_loss: 0.4219 - val_acc: 0.9121\n",
      "Epoch 15/200\n",
      "48000/48000 [==============================] - 1s 12us/step - loss: 0.4001 - acc: 0.9131 - val_loss: 0.4144 - val_acc: 0.9128\n",
      "Epoch 16/200\n",
      "48000/48000 [==============================] - 1s 12us/step - loss: 0.3900 - acc: 0.9146 - val_loss: 0.4076 - val_acc: 0.9136\n",
      "Epoch 17/200\n",
      "48000/48000 [==============================] - 1s 12us/step - loss: 0.3814 - acc: 0.9156 - val_loss: 0.4005 - val_acc: 0.9147\n",
      "Epoch 18/200\n",
      "48000/48000 [==============================] - 1s 12us/step - loss: 0.3737 - acc: 0.9165 - val_loss: 0.3952 - val_acc: 0.9143\n",
      "Epoch 19/200\n",
      "48000/48000 [==============================] - 1s 12us/step - loss: 0.3665 - acc: 0.9172 - val_loss: 0.3893 - val_acc: 0.9158\n",
      "Epoch 20/200\n",
      "48000/48000 [==============================] - 1s 11us/step - loss: 0.3600 - acc: 0.9180 - val_loss: 0.3850 - val_acc: 0.9158\n",
      "Epoch 21/200\n",
      "48000/48000 [==============================] - 1s 12us/step - loss: 0.3542 - acc: 0.9192 - val_loss: 0.3801 - val_acc: 0.9158\n",
      "Epoch 22/200\n",
      "48000/48000 [==============================] - 1s 12us/step - loss: 0.3489 - acc: 0.9196 - val_loss: 0.3756 - val_acc: 0.9173\n",
      "Epoch 23/200\n",
      "48000/48000 [==============================] - 1s 12us/step - loss: 0.3438 - acc: 0.9208 - val_loss: 0.3719 - val_acc: 0.9173\n",
      "Epoch 24/200\n",
      "48000/48000 [==============================] - 1s 12us/step - loss: 0.3393 - acc: 0.9213 - val_loss: 0.3682 - val_acc: 0.9170\n",
      "Epoch 25/200\n",
      "48000/48000 [==============================] - 1s 12us/step - loss: 0.3349 - acc: 0.9216 - val_loss: 0.3647 - val_acc: 0.9179\n",
      "Epoch 26/200\n",
      "48000/48000 [==============================] - 1s 12us/step - loss: 0.3309 - acc: 0.9220 - val_loss: 0.3615 - val_acc: 0.9179\n",
      "Epoch 27/200\n",
      "48000/48000 [==============================] - 1s 12us/step - loss: 0.3271 - acc: 0.9230 - val_loss: 0.3585 - val_acc: 0.9180\n",
      "Epoch 28/200\n",
      "48000/48000 [==============================] - 1s 12us/step - loss: 0.3236 - acc: 0.9231 - val_loss: 0.3552 - val_acc: 0.9186\n",
      "Epoch 29/200\n",
      "48000/48000 [==============================] - 1s 12us/step - loss: 0.3202 - acc: 0.9238 - val_loss: 0.3531 - val_acc: 0.9187\n",
      "Epoch 30/200\n",
      "48000/48000 [==============================] - 1s 12us/step - loss: 0.3171 - acc: 0.9242 - val_loss: 0.3504 - val_acc: 0.9193\n",
      "Epoch 31/200\n",
      "48000/48000 [==============================] - 1s 12us/step - loss: 0.3140 - acc: 0.9244 - val_loss: 0.3480 - val_acc: 0.9190\n",
      "Epoch 32/200\n",
      "48000/48000 [==============================] - 1s 11us/step - loss: 0.3111 - acc: 0.9249 - val_loss: 0.3459 - val_acc: 0.9200\n",
      "Epoch 33/200\n",
      "48000/48000 [==============================] - 1s 12us/step - loss: 0.3085 - acc: 0.9252 - val_loss: 0.3433 - val_acc: 0.9204\n",
      "Epoch 34/200\n",
      "48000/48000 [==============================] - 1s 11us/step - loss: 0.3059 - acc: 0.9260 - val_loss: 0.3413 - val_acc: 0.9203\n",
      "Epoch 35/200\n",
      "48000/48000 [==============================] - 1s 12us/step - loss: 0.3034 - acc: 0.9260 - val_loss: 0.3395 - val_acc: 0.9207\n",
      "Epoch 36/200\n",
      "48000/48000 [==============================] - 1s 12us/step - loss: 0.3011 - acc: 0.9265 - val_loss: 0.3373 - val_acc: 0.9207\n",
      "Epoch 37/200\n",
      "48000/48000 [==============================] - 1s 11us/step - loss: 0.2990 - acc: 0.9267 - val_loss: 0.3355 - val_acc: 0.9207\n",
      "Epoch 38/200\n",
      "48000/48000 [==============================] - 1s 11us/step - loss: 0.2968 - acc: 0.9271 - val_loss: 0.3341 - val_acc: 0.9208\n",
      "Epoch 39/200\n",
      "48000/48000 [==============================] - 1s 11us/step - loss: 0.2948 - acc: 0.9272 - val_loss: 0.3324 - val_acc: 0.9207\n",
      "Epoch 40/200\n",
      "48000/48000 [==============================] - 1s 12us/step - loss: 0.2928 - acc: 0.9275 - val_loss: 0.3306 - val_acc: 0.9216\n",
      "Epoch 41/200\n",
      "48000/48000 [==============================] - 1s 12us/step - loss: 0.2911 - acc: 0.9277 - val_loss: 0.3290 - val_acc: 0.9214\n",
      "Epoch 42/200\n",
      "48000/48000 [==============================] - 1s 12us/step - loss: 0.2892 - acc: 0.9284 - val_loss: 0.3275 - val_acc: 0.9211\n",
      "Epoch 43/200\n",
      "48000/48000 [==============================] - 1s 11us/step - loss: 0.2875 - acc: 0.9281 - val_loss: 0.3262 - val_acc: 0.9213\n",
      "Epoch 44/200\n",
      "48000/48000 [==============================] - 1s 12us/step - loss: 0.2859 - acc: 0.9287 - val_loss: 0.3253 - val_acc: 0.9212\n",
      "Epoch 45/200\n",
      "48000/48000 [==============================] - 1s 12us/step - loss: 0.2843 - acc: 0.9288 - val_loss: 0.3240 - val_acc: 0.9215\n",
      "Epoch 46/200\n",
      "48000/48000 [==============================] - 1s 12us/step - loss: 0.2828 - acc: 0.9292 - val_loss: 0.3226 - val_acc: 0.9217\n",
      "Epoch 47/200\n",
      "48000/48000 [==============================] - 1s 12us/step - loss: 0.2814 - acc: 0.9293 - val_loss: 0.3214 - val_acc: 0.9218\n",
      "Epoch 48/200\n",
      "48000/48000 [==============================] - 1s 12us/step - loss: 0.2799 - acc: 0.9295 - val_loss: 0.3205 - val_acc: 0.9218\n",
      "Epoch 49/200\n",
      "48000/48000 [==============================] - 1s 11us/step - loss: 0.2787 - acc: 0.9301 - val_loss: 0.3192 - val_acc: 0.9225\n",
      "Epoch 50/200\n",
      "48000/48000 [==============================] - 1s 11us/step - loss: 0.2774 - acc: 0.9295 - val_loss: 0.3183 - val_acc: 0.9229\n",
      "Epoch 51/200\n",
      "48000/48000 [==============================] - 1s 11us/step - loss: 0.2762 - acc: 0.9305 - val_loss: 0.3176 - val_acc: 0.9225\n",
      "Epoch 52/200\n",
      "48000/48000 [==============================] - 1s 12us/step - loss: 0.2750 - acc: 0.9302 - val_loss: 0.3163 - val_acc: 0.9228\n",
      "Epoch 53/200\n",
      "48000/48000 [==============================] - 1s 12us/step - loss: 0.2738 - acc: 0.9304 - val_loss: 0.3156 - val_acc: 0.9236\n",
      "Epoch 54/200\n",
      "48000/48000 [==============================] - 1s 12us/step - loss: 0.2728 - acc: 0.9306 - val_loss: 0.3148 - val_acc: 0.9237\n",
      "Epoch 55/200\n",
      "48000/48000 [==============================] - 1s 12us/step - loss: 0.2717 - acc: 0.9308 - val_loss: 0.3139 - val_acc: 0.9233\n",
      "Epoch 56/200\n",
      "48000/48000 [==============================] - 1s 12us/step - loss: 0.2706 - acc: 0.9306 - val_loss: 0.3129 - val_acc: 0.9233\n",
      "Epoch 57/200\n",
      "48000/48000 [==============================] - 1s 12us/step - loss: 0.2697 - acc: 0.9310 - val_loss: 0.3120 - val_acc: 0.9235\n",
      "Epoch 58/200\n",
      "48000/48000 [==============================] - 1s 11us/step - loss: 0.2688 - acc: 0.9314 - val_loss: 0.3113 - val_acc: 0.9235\n",
      "Epoch 59/200\n"
     ]
    },
    {
     "name": "stdout",
     "output_type": "stream",
     "text": [
      "48000/48000 [==============================] - 1s 12us/step - loss: 0.2678 - acc: 0.9314 - val_loss: 0.3108 - val_acc: 0.9236\n",
      "Epoch 60/200\n",
      "48000/48000 [==============================] - 1s 12us/step - loss: 0.2669 - acc: 0.9314 - val_loss: 0.3099 - val_acc: 0.9235\n",
      "Epoch 61/200\n",
      "48000/48000 [==============================] - 1s 12us/step - loss: 0.2661 - acc: 0.9317 - val_loss: 0.3094 - val_acc: 0.9236\n",
      "Epoch 62/200\n",
      "48000/48000 [==============================] - 1s 12us/step - loss: 0.2653 - acc: 0.9318 - val_loss: 0.3088 - val_acc: 0.9238\n",
      "Epoch 63/200\n",
      "48000/48000 [==============================] - 1s 12us/step - loss: 0.2644 - acc: 0.9314 - val_loss: 0.3085 - val_acc: 0.9235\n",
      "Epoch 64/200\n",
      "48000/48000 [==============================] - 1s 12us/step - loss: 0.2637 - acc: 0.9317 - val_loss: 0.3079 - val_acc: 0.9238\n",
      "Epoch 65/200\n",
      "48000/48000 [==============================] - 1s 12us/step - loss: 0.2629 - acc: 0.9320 - val_loss: 0.3070 - val_acc: 0.9240\n",
      "Epoch 66/200\n",
      "48000/48000 [==============================] - 1s 12us/step - loss: 0.2622 - acc: 0.9322 - val_loss: 0.3072 - val_acc: 0.9233\n",
      "Epoch 67/200\n",
      "48000/48000 [==============================] - 1s 12us/step - loss: 0.2615 - acc: 0.9326 - val_loss: 0.3063 - val_acc: 0.9236\n",
      "Epoch 68/200\n",
      "48000/48000 [==============================] - 1s 12us/step - loss: 0.2607 - acc: 0.9322 - val_loss: 0.3058 - val_acc: 0.9238\n",
      "Epoch 69/200\n",
      "48000/48000 [==============================] - 1s 12us/step - loss: 0.2601 - acc: 0.9327 - val_loss: 0.3049 - val_acc: 0.9252\n",
      "Epoch 70/200\n",
      "48000/48000 [==============================] - 1s 12us/step - loss: 0.2595 - acc: 0.9324 - val_loss: 0.3046 - val_acc: 0.9245\n",
      "Epoch 71/200\n",
      "48000/48000 [==============================] - 1s 12us/step - loss: 0.2589 - acc: 0.9327 - val_loss: 0.3043 - val_acc: 0.9245\n",
      "Epoch 72/200\n",
      "48000/48000 [==============================] - 1s 12us/step - loss: 0.2582 - acc: 0.9328 - val_loss: 0.3038 - val_acc: 0.9251\n",
      "Epoch 73/200\n",
      "48000/48000 [==============================] - 1s 12us/step - loss: 0.2576 - acc: 0.9330 - val_loss: 0.3034 - val_acc: 0.9252\n",
      "Epoch 74/200\n",
      "48000/48000 [==============================] - 1s 12us/step - loss: 0.2571 - acc: 0.9329 - val_loss: 0.3032 - val_acc: 0.9248\n",
      "Epoch 75/200\n",
      "48000/48000 [==============================] - 1s 12us/step - loss: 0.2565 - acc: 0.9331 - val_loss: 0.3031 - val_acc: 0.9251\n",
      "Epoch 76/200\n",
      "48000/48000 [==============================] - 1s 12us/step - loss: 0.2560 - acc: 0.9330 - val_loss: 0.3025 - val_acc: 0.9247\n",
      "Epoch 77/200\n",
      "48000/48000 [==============================] - 1s 12us/step - loss: 0.2554 - acc: 0.9327 - val_loss: 0.3022 - val_acc: 0.9254\n",
      "Epoch 78/200\n",
      "48000/48000 [==============================] - 1s 12us/step - loss: 0.2549 - acc: 0.9334 - val_loss: 0.3017 - val_acc: 0.9254\n",
      "Epoch 79/200\n",
      "48000/48000 [==============================] - 1s 12us/step - loss: 0.2544 - acc: 0.9336 - val_loss: 0.3012 - val_acc: 0.9253\n",
      "Epoch 80/200\n",
      "48000/48000 [==============================] - 1s 11us/step - loss: 0.2539 - acc: 0.9332 - val_loss: 0.3010 - val_acc: 0.9253\n",
      "Epoch 81/200\n",
      "48000/48000 [==============================] - 1s 11us/step - loss: 0.2534 - acc: 0.9336 - val_loss: 0.3007 - val_acc: 0.9252\n",
      "Epoch 82/200\n",
      "48000/48000 [==============================] - 1s 11us/step - loss: 0.2529 - acc: 0.9336 - val_loss: 0.3005 - val_acc: 0.9250\n",
      "Epoch 83/200\n",
      "48000/48000 [==============================] - 1s 12us/step - loss: 0.2525 - acc: 0.9336 - val_loss: 0.3002 - val_acc: 0.9258\n",
      "Epoch 84/200\n",
      "48000/48000 [==============================] - 1s 12us/step - loss: 0.2521 - acc: 0.9335 - val_loss: 0.2999 - val_acc: 0.9251\n",
      "Epoch 85/200\n",
      "48000/48000 [==============================] - 1s 12us/step - loss: 0.2515 - acc: 0.9336 - val_loss: 0.2993 - val_acc: 0.9253\n",
      "Epoch 86/200\n",
      "48000/48000 [==============================] - 1s 12us/step - loss: 0.2512 - acc: 0.9338 - val_loss: 0.2994 - val_acc: 0.9252\n",
      "Epoch 87/200\n",
      "48000/48000 [==============================] - 1s 12us/step - loss: 0.2508 - acc: 0.9340 - val_loss: 0.2991 - val_acc: 0.9251\n",
      "Epoch 88/200\n",
      "48000/48000 [==============================] - 1s 12us/step - loss: 0.2504 - acc: 0.9343 - val_loss: 0.2992 - val_acc: 0.9256\n",
      "Epoch 89/200\n",
      "48000/48000 [==============================] - 1s 12us/step - loss: 0.2500 - acc: 0.9339 - val_loss: 0.2986 - val_acc: 0.9260\n",
      "Epoch 90/200\n",
      "48000/48000 [==============================] - 1s 12us/step - loss: 0.2496 - acc: 0.9341 - val_loss: 0.2986 - val_acc: 0.9262\n",
      "Epoch 91/200\n",
      "48000/48000 [==============================] - 1s 12us/step - loss: 0.2492 - acc: 0.9341 - val_loss: 0.2983 - val_acc: 0.9256\n",
      "Epoch 92/200\n",
      "48000/48000 [==============================] - 1s 12us/step - loss: 0.2488 - acc: 0.9344 - val_loss: 0.2978 - val_acc: 0.9258\n",
      "Epoch 93/200\n",
      "48000/48000 [==============================] - 1s 12us/step - loss: 0.2484 - acc: 0.9344 - val_loss: 0.2980 - val_acc: 0.9257\n",
      "Epoch 94/200\n",
      "48000/48000 [==============================] - 1s 12us/step - loss: 0.2481 - acc: 0.9344 - val_loss: 0.2972 - val_acc: 0.9263\n",
      "Epoch 95/200\n",
      "48000/48000 [==============================] - 1s 11us/step - loss: 0.2478 - acc: 0.9346 - val_loss: 0.2974 - val_acc: 0.9258\n",
      "Epoch 96/200\n",
      "48000/48000 [==============================] - 1s 12us/step - loss: 0.2474 - acc: 0.9346 - val_loss: 0.2974 - val_acc: 0.9262\n",
      "Epoch 97/200\n",
      "48000/48000 [==============================] - 1s 11us/step - loss: 0.2470 - acc: 0.9347 - val_loss: 0.2967 - val_acc: 0.9257\n",
      "Epoch 98/200\n",
      "48000/48000 [==============================] - 1s 11us/step - loss: 0.2467 - acc: 0.9346 - val_loss: 0.2966 - val_acc: 0.9263\n",
      "Epoch 99/200\n",
      "48000/48000 [==============================] - 1s 12us/step - loss: 0.2464 - acc: 0.9349 - val_loss: 0.2968 - val_acc: 0.9257\n",
      "Epoch 100/200\n",
      "48000/48000 [==============================] - 1s 12us/step - loss: 0.2461 - acc: 0.9349 - val_loss: 0.2967 - val_acc: 0.9260\n",
      "Epoch 101/200\n",
      "48000/48000 [==============================] - 1s 12us/step - loss: 0.2458 - acc: 0.9350 - val_loss: 0.2966 - val_acc: 0.9260\n",
      "Epoch 102/200\n",
      "48000/48000 [==============================] - 1s 12us/step - loss: 0.2454 - acc: 0.9349 - val_loss: 0.2961 - val_acc: 0.9265\n",
      "Epoch 103/200\n",
      "48000/48000 [==============================] - 1s 12us/step - loss: 0.2451 - acc: 0.9351 - val_loss: 0.2963 - val_acc: 0.9260\n",
      "Epoch 104/200\n",
      "48000/48000 [==============================] - 1s 11us/step - loss: 0.2449 - acc: 0.9354 - val_loss: 0.2959 - val_acc: 0.9257\n",
      "Epoch 105/200\n",
      "48000/48000 [==============================] - 1s 12us/step - loss: 0.2446 - acc: 0.9351 - val_loss: 0.2956 - val_acc: 0.9263\n",
      "Epoch 106/200\n",
      "48000/48000 [==============================] - 1s 12us/step - loss: 0.2442 - acc: 0.9349 - val_loss: 0.2953 - val_acc: 0.9264\n",
      "Epoch 107/200\n",
      "48000/48000 [==============================] - 1s 12us/step - loss: 0.2440 - acc: 0.9354 - val_loss: 0.2950 - val_acc: 0.9266\n",
      "Epoch 108/200\n",
      "48000/48000 [==============================] - 1s 12us/step - loss: 0.2437 - acc: 0.9353 - val_loss: 0.2951 - val_acc: 0.9258\n",
      "Epoch 109/200\n",
      "48000/48000 [==============================] - 1s 12us/step - loss: 0.2435 - acc: 0.9353 - val_loss: 0.2950 - val_acc: 0.9260\n",
      "Epoch 110/200\n",
      "48000/48000 [==============================] - 1s 11us/step - loss: 0.2431 - acc: 0.9354 - val_loss: 0.2950 - val_acc: 0.9259\n",
      "Epoch 111/200\n",
      "48000/48000 [==============================] - 1s 12us/step - loss: 0.2429 - acc: 0.9355 - val_loss: 0.2945 - val_acc: 0.9262\n",
      "Epoch 112/200\n",
      "48000/48000 [==============================] - 1s 12us/step - loss: 0.2426 - acc: 0.9354 - val_loss: 0.2943 - val_acc: 0.9260\n",
      "Epoch 113/200\n",
      "48000/48000 [==============================] - 1s 12us/step - loss: 0.2423 - acc: 0.9350 - val_loss: 0.2944 - val_acc: 0.9258\n",
      "Epoch 114/200\n",
      "48000/48000 [==============================] - 1s 11us/step - loss: 0.2421 - acc: 0.9355 - val_loss: 0.2940 - val_acc: 0.9258\n",
      "Epoch 115/200\n",
      "48000/48000 [==============================] - 1s 11us/step - loss: 0.2418 - acc: 0.9354 - val_loss: 0.2940 - val_acc: 0.9261\n",
      "Epoch 116/200\n",
      "48000/48000 [==============================] - 1s 12us/step - loss: 0.2415 - acc: 0.9356 - val_loss: 0.2941 - val_acc: 0.9259\n",
      "Epoch 117/200\n",
      "48000/48000 [==============================] - 1s 11us/step - loss: 0.2413 - acc: 0.9353 - val_loss: 0.2937 - val_acc: 0.9262\n"
     ]
    },
    {
     "name": "stdout",
     "output_type": "stream",
     "text": [
      "Epoch 118/200\n",
      "48000/48000 [==============================] - 1s 11us/step - loss: 0.2411 - acc: 0.9354 - val_loss: 0.2937 - val_acc: 0.9262\n",
      "Epoch 119/200\n",
      "48000/48000 [==============================] - 1s 12us/step - loss: 0.2409 - acc: 0.9355 - val_loss: 0.2937 - val_acc: 0.9259\n",
      "Epoch 120/200\n",
      "48000/48000 [==============================] - 1s 12us/step - loss: 0.2406 - acc: 0.9354 - val_loss: 0.2932 - val_acc: 0.9262\n",
      "Epoch 121/200\n",
      "48000/48000 [==============================] - 1s 12us/step - loss: 0.2404 - acc: 0.9354 - val_loss: 0.2933 - val_acc: 0.9263\n",
      "Epoch 122/200\n",
      "48000/48000 [==============================] - 1s 11us/step - loss: 0.2402 - acc: 0.9357 - val_loss: 0.2933 - val_acc: 0.9258\n",
      "Epoch 123/200\n",
      "48000/48000 [==============================] - 1s 12us/step - loss: 0.2399 - acc: 0.9360 - val_loss: 0.2930 - val_acc: 0.9258\n",
      "Epoch 124/200\n",
      "48000/48000 [==============================] - 1s 12us/step - loss: 0.2398 - acc: 0.9358 - val_loss: 0.2928 - val_acc: 0.9267\n",
      "Epoch 125/200\n",
      "48000/48000 [==============================] - 1s 12us/step - loss: 0.2395 - acc: 0.9359 - val_loss: 0.2932 - val_acc: 0.9265\n",
      "Epoch 126/200\n",
      "48000/48000 [==============================] - 1s 12us/step - loss: 0.2393 - acc: 0.9359 - val_loss: 0.2931 - val_acc: 0.9257\n",
      "Epoch 127/200\n",
      "48000/48000 [==============================] - 1s 12us/step - loss: 0.2392 - acc: 0.9352 - val_loss: 0.2926 - val_acc: 0.9264\n",
      "Epoch 128/200\n",
      "48000/48000 [==============================] - 1s 12us/step - loss: 0.2389 - acc: 0.9362 - val_loss: 0.2925 - val_acc: 0.9262\n",
      "Epoch 129/200\n",
      "48000/48000 [==============================] - 1s 12us/step - loss: 0.2388 - acc: 0.9360 - val_loss: 0.2923 - val_acc: 0.9262\n",
      "Epoch 130/200\n",
      "48000/48000 [==============================] - 1s 12us/step - loss: 0.2386 - acc: 0.9363 - val_loss: 0.2928 - val_acc: 0.9259\n",
      "Epoch 131/200\n",
      "48000/48000 [==============================] - 1s 12us/step - loss: 0.2384 - acc: 0.9360 - val_loss: 0.2925 - val_acc: 0.9262\n",
      "Epoch 132/200\n",
      "48000/48000 [==============================] - 1s 12us/step - loss: 0.2382 - acc: 0.9364 - val_loss: 0.2920 - val_acc: 0.9265\n",
      "Epoch 133/200\n",
      "48000/48000 [==============================] - 1s 12us/step - loss: 0.2380 - acc: 0.9362 - val_loss: 0.2922 - val_acc: 0.9265\n",
      "Epoch 134/200\n",
      "48000/48000 [==============================] - 1s 11us/step - loss: 0.2378 - acc: 0.9361 - val_loss: 0.2922 - val_acc: 0.9268\n",
      "Epoch 135/200\n",
      "48000/48000 [==============================] - 1s 11us/step - loss: 0.2376 - acc: 0.9363 - val_loss: 0.2923 - val_acc: 0.9263\n",
      "Epoch 136/200\n",
      "48000/48000 [==============================] - 1s 12us/step - loss: 0.2374 - acc: 0.9364 - val_loss: 0.2921 - val_acc: 0.9261\n",
      "Epoch 137/200\n",
      "48000/48000 [==============================] - 1s 12us/step - loss: 0.2373 - acc: 0.9363 - val_loss: 0.2918 - val_acc: 0.9267\n",
      "Epoch 138/200\n",
      "48000/48000 [==============================] - 1s 12us/step - loss: 0.2371 - acc: 0.9364 - val_loss: 0.2921 - val_acc: 0.9262\n",
      "Epoch 139/200\n",
      "48000/48000 [==============================] - 1s 11us/step - loss: 0.2369 - acc: 0.9364 - val_loss: 0.2922 - val_acc: 0.9267\n",
      "Epoch 140/200\n",
      "48000/48000 [==============================] - 1s 12us/step - loss: 0.2368 - acc: 0.9364 - val_loss: 0.2916 - val_acc: 0.9262\n",
      "Epoch 141/200\n",
      "48000/48000 [==============================] - 1s 12us/step - loss: 0.2366 - acc: 0.9362 - val_loss: 0.2922 - val_acc: 0.9261\n",
      "Epoch 142/200\n",
      "48000/48000 [==============================] - 1s 12us/step - loss: 0.2364 - acc: 0.9365 - val_loss: 0.2919 - val_acc: 0.9261\n",
      "Epoch 143/200\n",
      "48000/48000 [==============================] - 1s 12us/step - loss: 0.2362 - acc: 0.9368 - val_loss: 0.2919 - val_acc: 0.9263\n",
      "Epoch 144/200\n",
      "48000/48000 [==============================] - 1s 12us/step - loss: 0.2361 - acc: 0.9364 - val_loss: 0.2921 - val_acc: 0.9262\n",
      "Epoch 145/200\n",
      "48000/48000 [==============================] - 1s 12us/step - loss: 0.2359 - acc: 0.9368 - val_loss: 0.2918 - val_acc: 0.9262\n",
      "Epoch 146/200\n",
      "48000/48000 [==============================] - 1s 12us/step - loss: 0.2358 - acc: 0.9368 - val_loss: 0.2913 - val_acc: 0.9266\n",
      "Epoch 147/200\n",
      "48000/48000 [==============================] - 1s 12us/step - loss: 0.2356 - acc: 0.9370 - val_loss: 0.2912 - val_acc: 0.9265\n",
      "Epoch 148/200\n",
      "48000/48000 [==============================] - 1s 11us/step - loss: 0.2355 - acc: 0.9368 - val_loss: 0.2913 - val_acc: 0.9266\n",
      "Epoch 149/200\n",
      "48000/48000 [==============================] - 1s 12us/step - loss: 0.2353 - acc: 0.9369 - val_loss: 0.2914 - val_acc: 0.9263\n",
      "Epoch 150/200\n",
      "48000/48000 [==============================] - 1s 12us/step - loss: 0.2352 - acc: 0.9371 - val_loss: 0.2914 - val_acc: 0.9263\n",
      "Epoch 151/200\n",
      "48000/48000 [==============================] - 1s 12us/step - loss: 0.2350 - acc: 0.9365 - val_loss: 0.2912 - val_acc: 0.9265\n",
      "Epoch 152/200\n",
      "48000/48000 [==============================] - 1s 12us/step - loss: 0.2348 - acc: 0.9365 - val_loss: 0.2909 - val_acc: 0.9266\n",
      "Epoch 153/200\n",
      "48000/48000 [==============================] - 1s 12us/step - loss: 0.2347 - acc: 0.9370 - val_loss: 0.2911 - val_acc: 0.9267\n",
      "Epoch 154/200\n",
      "48000/48000 [==============================] - 1s 12us/step - loss: 0.2346 - acc: 0.9369 - val_loss: 0.2911 - val_acc: 0.9263\n",
      "Epoch 155/200\n",
      "48000/48000 [==============================] - 1s 12us/step - loss: 0.2344 - acc: 0.9370 - val_loss: 0.2909 - val_acc: 0.9264\n",
      "Epoch 156/200\n",
      "48000/48000 [==============================] - 1s 12us/step - loss: 0.2343 - acc: 0.9371 - val_loss: 0.2909 - val_acc: 0.9267\n",
      "Epoch 157/200\n",
      "48000/48000 [==============================] - 1s 12us/step - loss: 0.2341 - acc: 0.9373 - val_loss: 0.2910 - val_acc: 0.9264\n",
      "Epoch 158/200\n",
      "48000/48000 [==============================] - 1s 12us/step - loss: 0.2339 - acc: 0.9372 - val_loss: 0.2909 - val_acc: 0.9269\n",
      "Epoch 159/200\n",
      "48000/48000 [==============================] - 1s 12us/step - loss: 0.2339 - acc: 0.9370 - val_loss: 0.2908 - val_acc: 0.9263\n",
      "Epoch 160/200\n",
      "48000/48000 [==============================] - 1s 12us/step - loss: 0.2337 - acc: 0.9374 - val_loss: 0.2910 - val_acc: 0.9267\n",
      "Epoch 161/200\n",
      "48000/48000 [==============================] - 1s 12us/step - loss: 0.2336 - acc: 0.9371 - val_loss: 0.2913 - val_acc: 0.9260\n",
      "Epoch 162/200\n",
      "48000/48000 [==============================] - 1s 12us/step - loss: 0.2335 - acc: 0.9372 - val_loss: 0.2912 - val_acc: 0.9262\n",
      "Epoch 163/200\n",
      "48000/48000 [==============================] - 1s 12us/step - loss: 0.2333 - acc: 0.9374 - val_loss: 0.2906 - val_acc: 0.9265\n",
      "Epoch 164/200\n",
      "48000/48000 [==============================] - 1s 12us/step - loss: 0.2332 - acc: 0.9375 - val_loss: 0.2906 - val_acc: 0.9267\n",
      "Epoch 165/200\n",
      "48000/48000 [==============================] - 1s 11us/step - loss: 0.2330 - acc: 0.9373 - val_loss: 0.2910 - val_acc: 0.9271\n",
      "Epoch 166/200\n",
      "48000/48000 [==============================] - 1s 11us/step - loss: 0.2329 - acc: 0.9375 - val_loss: 0.2907 - val_acc: 0.9265\n",
      "Epoch 167/200\n",
      "48000/48000 [==============================] - 1s 12us/step - loss: 0.2329 - acc: 0.9372 - val_loss: 0.2907 - val_acc: 0.9267\n",
      "Epoch 168/200\n",
      "48000/48000 [==============================] - 1s 11us/step - loss: 0.2327 - acc: 0.9376 - val_loss: 0.2910 - val_acc: 0.9263\n",
      "Epoch 169/200\n",
      "48000/48000 [==============================] - 1s 12us/step - loss: 0.2326 - acc: 0.9378 - val_loss: 0.2905 - val_acc: 0.9269\n",
      "Epoch 170/200\n",
      "48000/48000 [==============================] - 1s 12us/step - loss: 0.2324 - acc: 0.9374 - val_loss: 0.2908 - val_acc: 0.9266\n",
      "Epoch 171/200\n",
      "48000/48000 [==============================] - 1s 12us/step - loss: 0.2323 - acc: 0.9376 - val_loss: 0.2905 - val_acc: 0.9265\n",
      "Epoch 172/200\n",
      "48000/48000 [==============================] - 1s 12us/step - loss: 0.2322 - acc: 0.9375 - val_loss: 0.2904 - val_acc: 0.9265\n",
      "Epoch 173/200\n",
      "48000/48000 [==============================] - 1s 12us/step - loss: 0.2317 - acc: 0.9378 - val_loss: 0.2906 - val_acc: 0.9264\n",
      "Epoch 174/200\n",
      "48000/48000 [==============================] - 1s 12us/step - loss: 0.2317 - acc: 0.9374 - val_loss: 0.2901 - val_acc: 0.9267\n",
      "Epoch 175/200\n",
      "48000/48000 [==============================] - 1s 11us/step - loss: 0.2315 - acc: 0.9374 - val_loss: 0.2899 - val_acc: 0.9267\n",
      "Epoch 176/200\n"
     ]
    },
    {
     "name": "stdout",
     "output_type": "stream",
     "text": [
      "48000/48000 [==============================] - 1s 11us/step - loss: 0.2314 - acc: 0.9379 - val_loss: 0.2904 - val_acc: 0.9263\n",
      "Epoch 177/200\n",
      "48000/48000 [==============================] - 1s 12us/step - loss: 0.2313 - acc: 0.9379 - val_loss: 0.2902 - val_acc: 0.9267\n",
      "Epoch 178/200\n",
      "48000/48000 [==============================] - 1s 12us/step - loss: 0.2311 - acc: 0.9379 - val_loss: 0.2904 - val_acc: 0.9263\n",
      "Epoch 179/200\n",
      "48000/48000 [==============================] - 1s 12us/step - loss: 0.2311 - acc: 0.9375 - val_loss: 0.2903 - val_acc: 0.9269\n",
      "Epoch 180/200\n",
      "48000/48000 [==============================] - 1s 12us/step - loss: 0.2310 - acc: 0.9377 - val_loss: 0.2900 - val_acc: 0.9267\n",
      "Epoch 181/200\n",
      "48000/48000 [==============================] - 1s 12us/step - loss: 0.2308 - acc: 0.9377 - val_loss: 0.2901 - val_acc: 0.9266\n",
      "Epoch 182/200\n",
      "48000/48000 [==============================] - 1s 12us/step - loss: 0.2307 - acc: 0.9379 - val_loss: 0.2903 - val_acc: 0.9264\n",
      "Epoch 183/200\n",
      "48000/48000 [==============================] - 1s 11us/step - loss: 0.2305 - acc: 0.9380 - val_loss: 0.2902 - val_acc: 0.9269\n",
      "Epoch 184/200\n",
      "48000/48000 [==============================] - 1s 12us/step - loss: 0.2305 - acc: 0.9379 - val_loss: 0.2901 - val_acc: 0.9271\n",
      "Epoch 185/200\n",
      "48000/48000 [==============================] - 1s 12us/step - loss: 0.2304 - acc: 0.9379 - val_loss: 0.2898 - val_acc: 0.9272\n",
      "Epoch 186/200\n",
      "48000/48000 [==============================] - 1s 12us/step - loss: 0.2303 - acc: 0.9381 - val_loss: 0.2903 - val_acc: 0.9267\n",
      "Epoch 187/200\n",
      "48000/48000 [==============================] - 1s 12us/step - loss: 0.2302 - acc: 0.9378 - val_loss: 0.2901 - val_acc: 0.9272\n",
      "Epoch 188/200\n",
      "48000/48000 [==============================] - 1s 12us/step - loss: 0.2301 - acc: 0.9382 - val_loss: 0.2900 - val_acc: 0.9272\n",
      "Epoch 189/200\n",
      "48000/48000 [==============================] - 1s 12us/step - loss: 0.2300 - acc: 0.9382 - val_loss: 0.2899 - val_acc: 0.9267\n",
      "Epoch 190/200\n",
      "48000/48000 [==============================] - 1s 12us/step - loss: 0.2299 - acc: 0.9381 - val_loss: 0.2900 - val_acc: 0.9268\n",
      "Epoch 191/200\n",
      "48000/48000 [==============================] - 1s 12us/step - loss: 0.2298 - acc: 0.9381 - val_loss: 0.2899 - val_acc: 0.9272\n",
      "Epoch 192/200\n",
      "48000/48000 [==============================] - 1s 12us/step - loss: 0.2297 - acc: 0.9381 - val_loss: 0.2901 - val_acc: 0.9272\n",
      "Epoch 193/200\n",
      "48000/48000 [==============================] - 1s 11us/step - loss: 0.2295 - acc: 0.9382 - val_loss: 0.2899 - val_acc: 0.9268\n",
      "Epoch 194/200\n",
      "48000/48000 [==============================] - 1s 11us/step - loss: 0.2295 - acc: 0.9379 - val_loss: 0.2900 - val_acc: 0.9275\n",
      "Epoch 195/200\n",
      "48000/48000 [==============================] - 1s 12us/step - loss: 0.2293 - acc: 0.9388 - val_loss: 0.2902 - val_acc: 0.9267\n",
      "Epoch 196/200\n",
      "48000/48000 [==============================] - 1s 12us/step - loss: 0.2292 - acc: 0.9381 - val_loss: 0.2901 - val_acc: 0.9268\n",
      "Epoch 197/200\n",
      "48000/48000 [==============================] - 1s 12us/step - loss: 0.2292 - acc: 0.9383 - val_loss: 0.2898 - val_acc: 0.9273\n",
      "Epoch 198/200\n",
      "48000/48000 [==============================] - 1s 12us/step - loss: 0.2291 - acc: 0.9385 - val_loss: 0.2900 - val_acc: 0.9269\n",
      "Epoch 199/200\n",
      "48000/48000 [==============================] - 1s 12us/step - loss: 0.2289 - acc: 0.9384 - val_loss: 0.2899 - val_acc: 0.9268\n",
      "Epoch 200/200\n",
      "48000/48000 [==============================] - 1s 12us/step - loss: 0.2289 - acc: 0.9383 - val_loss: 0.2898 - val_acc: 0.9267\n"
     ]
    }
   ],
   "source": [
    "history = model.fit(Xsca_tr, Y_tr, batch_size=128, epochs=200, validation_split=0.2)"
   ]
  },
  {
   "cell_type": "code",
   "execution_count": 31,
   "metadata": {},
   "outputs": [
    {
     "data": {
      "text/html": [
       "<div>\n",
       "<style>\n",
       "    .dataframe thead tr:only-child th {\n",
       "        text-align: right;\n",
       "    }\n",
       "\n",
       "    .dataframe thead th {\n",
       "        text-align: left;\n",
       "    }\n",
       "\n",
       "    .dataframe tbody tr th {\n",
       "        vertical-align: top;\n",
       "    }\n",
       "</style>\n",
       "<table border=\"1\" class=\"dataframe\">\n",
       "  <thead>\n",
       "    <tr style=\"text-align: right;\">\n",
       "      <th></th>\n",
       "      <th>acc</th>\n",
       "      <th>loss</th>\n",
       "      <th>val_acc</th>\n",
       "      <th>val_loss</th>\n",
       "    </tr>\n",
       "  </thead>\n",
       "  <tbody>\n",
       "    <tr>\n",
       "      <th>0</th>\n",
       "      <td>0.539687</td>\n",
       "      <td>4.703822</td>\n",
       "      <td>0.723250</td>\n",
       "      <td>2.288533</td>\n",
       "    </tr>\n",
       "    <tr>\n",
       "      <th>1</th>\n",
       "      <td>0.781229</td>\n",
       "      <td>1.652187</td>\n",
       "      <td>0.835000</td>\n",
       "      <td>1.075295</td>\n",
       "    </tr>\n",
       "    <tr>\n",
       "      <th>2</th>\n",
       "      <td>0.843500</td>\n",
       "      <td>1.005381</td>\n",
       "      <td>0.865000</td>\n",
       "      <td>0.792515</td>\n",
       "    </tr>\n",
       "    <tr>\n",
       "      <th>3</th>\n",
       "      <td>0.867687</td>\n",
       "      <td>0.770974</td>\n",
       "      <td>0.881417</td>\n",
       "      <td>0.656183</td>\n",
       "    </tr>\n",
       "    <tr>\n",
       "      <th>4</th>\n",
       "      <td>0.881333</td>\n",
       "      <td>0.654189</td>\n",
       "      <td>0.890167</td>\n",
       "      <td>0.586406</td>\n",
       "    </tr>\n",
       "  </tbody>\n",
       "</table>\n",
       "</div>"
      ],
      "text/plain": [
       "        acc      loss   val_acc  val_loss\n",
       "0  0.539687  4.703822  0.723250  2.288533\n",
       "1  0.781229  1.652187  0.835000  1.075295\n",
       "2  0.843500  1.005381  0.865000  0.792515\n",
       "3  0.867687  0.770974  0.881417  0.656183\n",
       "4  0.881333  0.654189  0.890167  0.586406"
      ]
     },
     "execution_count": 31,
     "metadata": {},
     "output_type": "execute_result"
    }
   ],
   "source": [
    "tr_result = DataFrame(history.history)\n",
    "tr_result[:5]"
   ]
  },
  {
   "cell_type": "code",
   "execution_count": 32,
   "metadata": {},
   "outputs": [
    {
     "data": {
      "text/plain": [
       "<matplotlib.axes._subplots.AxesSubplot at 0x14859e48>"
      ]
     },
     "execution_count": 32,
     "metadata": {},
     "output_type": "execute_result"
    },
    {
     "data": {
      "image/png": "[encoded data removed]",
      "text/plain": [
       "<matplotlib.figure.Figure at 0x148655c0>"
      ]
     },
     "metadata": {},
     "output_type": "display_data"
    }
   ],
   "source": [
    "tr_result[['acc', 'val_acc']].plot()"
   ]
  },
  {
   "cell_type": "code",
   "execution_count": 33,
   "metadata": {},
   "outputs": [
    {
     "data": {
      "text/plain": [
       "<matplotlib.axes._subplots.AxesSubplot at 0x14929240>"
      ]
     },
     "execution_count": 33,
     "metadata": {},
     "output_type": "execute_result"
    },
    {
     "data": {
      "image/png": "[encoded data removed]",
      "text/plain": [
       "<matplotlib.figure.Figure at 0x14934c18>"
      ]
     },
     "metadata": {},
     "output_type": "display_data"
    }
   ],
   "source": [
    "tr_result[['loss', 'val_loss']].plot()"
   ]
  },
  {
   "cell_type": "code",
   "execution_count": 34,
   "metadata": {},
   "outputs": [
    {
     "name": "stdout",
     "output_type": "stream",
     "text": [
      "10000/10000 [==============================] - 0s 17us/step\n"
     ]
    }
   ],
   "source": [
    "score = model.evaluate(Xsca_te, Y_te)"
   ]
  },
  {
   "cell_type": "code",
   "execution_count": 36,
   "metadata": {},
   "outputs": [
    {
     "name": "stdout",
     "output_type": "stream",
     "text": [
      "Loss: 0.300, Acc: 92.57%\n"
     ]
    }
   ],
   "source": [
    "print('Loss: {:.3f}, Acc: {:.2%}'.format(*score))"
   ]
  },
  {
   "cell_type": "code",
   "execution_count": 45,
   "metadata": {},
   "outputs": [
    {
     "name": "stdout",
     "output_type": "stream",
     "text": [
      "_________________________________________________________________\n",
      "Layer (type)                 Output Shape              Param #   \n",
      "=================================================================\n",
      "dense_8 (Dense)              (None, 128)               100480    \n",
      "_________________________________________________________________\n",
      "dense_9 (Dense)              (None, 128)               16512     \n",
      "_________________________________________________________________\n",
      "dense_10 (Dense)             (None, 128)               16512     \n",
      "_________________________________________________________________\n",
      "dense_11 (Dense)             (None, 10)                1290      \n",
      "=================================================================\n",
      "Total params: 134,794\n",
      "Trainable params: 134,794\n",
      "Non-trainable params: 0\n",
      "_________________________________________________________________\n"
     ]
    }
   ],
   "source": [
    "model = Sequential()\n",
    "model.add(Dense(128, input_shape=(784,), activation='relu'))\n",
    "model.add(Dense(128, activation='relu'))\n",
    "model.add(Dense(128, activation='relu'))\n",
    "model.add(Dense(10, activation='softmax'))\n",
    "model.summary()"
   ]
  },
  {
   "cell_type": "code",
   "execution_count": 40,
   "metadata": {
    "collapsed": true
   },
   "outputs": [],
   "source": [
    "def relu(x):\n",
    "    return np.maximum(0, x)"
   ]
  },
  {
   "cell_type": "code",
   "execution_count": 42,
   "metadata": {},
   "outputs": [
    {
     "data": {
      "text/plain": [
       "[<matplotlib.lines.Line2D at 0x152196d8>]"
      ]
     },
     "execution_count": 42,
     "metadata": {},
     "output_type": "execute_result"
    },
    {
     "data": {
      "image/png": "[encoded data removed]",
      "text/plain": [
       "<matplotlib.figure.Figure at 0x151ad080>"
      ]
     },
     "metadata": {},
     "output_type": "display_data"
    }
   ],
   "source": [
    "x = np.arange(-0.5, 0.5, 0.1)\n",
    "plt.plot(x, relu(x))"
   ]
  },
  {
   "cell_type": "code",
   "execution_count": 46,
   "metadata": {
    "collapsed": true
   },
   "outputs": [],
   "source": [
    "model.compile(loss='categorical_crossentropy',\n",
    "             optimizer='sgd',\n",
    "             metrics=['accuracy'])"
   ]
  },
  {
   "cell_type": "code",
   "execution_count": 47,
   "metadata": {
    "collapsed": true
   },
   "outputs": [
    {
     "name": "stdout",
     "output_type": "stream",
     "text": [
      "Train on 48000 samples, validate on 12000 samples\n",
      "Epoch 1/20\n",
      "48000/48000 [==============================] - 1s 30us/step - loss: 1.1383 - acc: 0.6930 - val_loss: 0.5081 - val_acc: 0.8650\n",
      "Epoch 2/20\n",
      "48000/48000 [==============================] - 1s 24us/step - loss: 0.4092 - acc: 0.8845 - val_loss: 0.3287 - val_acc: 0.9075\n",
      "Epoch 3/20\n",
      "48000/48000 [==============================] - 1s 24us/step - loss: 0.3036 - acc: 0.9122 - val_loss: 0.2735 - val_acc: 0.9222\n",
      "Epoch 4/20\n",
      "48000/48000 [==============================] - 1s 23us/step - loss: 0.2545 - acc: 0.9255 - val_loss: 0.2425 - val_acc: 0.9312\n",
      "Epoch 5/20\n",
      "48000/48000 [==============================] - 1s 24us/step - loss: 0.2227 - acc: 0.9346 - val_loss: 0.2218 - val_acc: 0.9373\n",
      "Epoch 6/20\n",
      "48000/48000 [==============================] - 1s 24us/step - loss: 0.1996 - acc: 0.9416 - val_loss: 0.2077 - val_acc: 0.9423\n",
      "Epoch 7/20\n",
      "48000/48000 [==============================] - 1s 24us/step - loss: 0.1816 - acc: 0.9467 - val_loss: 0.1948 - val_acc: 0.9451\n",
      "Epoch 8/20\n",
      "48000/48000 [==============================] - 1s 24us/step - loss: 0.1666 - acc: 0.9512 - val_loss: 0.1859 - val_acc: 0.9489\n",
      "Epoch 9/20\n",
      "48000/48000 [==============================] - 1s 24us/step - loss: 0.1546 - acc: 0.9552 - val_loss: 0.1783 - val_acc: 0.9506\n",
      "Epoch 10/20\n",
      "48000/48000 [==============================] - 1s 24us/step - loss: 0.1439 - acc: 0.9583 - val_loss: 0.1734 - val_acc: 0.9529\n",
      "Epoch 11/20\n",
      "48000/48000 [==============================] - 1s 24us/step - loss: 0.1349 - acc: 0.9610 - val_loss: 0.1688 - val_acc: 0.9529\n",
      "Epoch 12/20\n",
      "48000/48000 [==============================] - 1s 24us/step - loss: 0.1267 - acc: 0.9637 - val_loss: 0.1635 - val_acc: 0.9557\n",
      "Epoch 13/20\n",
      "48000/48000 [==============================] - 1s 24us/step - loss: 0.1195 - acc: 0.9659 - val_loss: 0.1604 - val_acc: 0.9569\n",
      "Epoch 14/20\n",
      "48000/48000 [==============================] - 1s 24us/step - loss: 0.1128 - acc: 0.9680 - val_loss: 0.1565 - val_acc: 0.9584\n",
      "Epoch 15/20\n",
      "48000/48000 [==============================] - 1s 24us/step - loss: 0.1068 - acc: 0.9697 - val_loss: 0.1539 - val_acc: 0.9584\n",
      "Epoch 16/20\n",
      "48000/48000 [==============================] - 1s 24us/step - loss: 0.1011 - acc: 0.9716 - val_loss: 0.1517 - val_acc: 0.9598\n",
      "Epoch 17/20\n",
      "48000/48000 [==============================] - 1s 24us/step - loss: 0.0961 - acc: 0.9733 - val_loss: 0.1488 - val_acc: 0.9601\n",
      "Epoch 18/20\n",
      "48000/48000 [==============================] - 1s 24us/step - loss: 0.0914 - acc: 0.9749 - val_loss: 0.1473 - val_acc: 0.9607\n",
      "Epoch 19/20\n",
      "48000/48000 [==============================] - 1s 24us/step - loss: 0.0869 - acc: 0.9764 - val_loss: 0.1453 - val_acc: 0.9607\n",
      "Epoch 20/20\n",
      "48000/48000 [==============================] - 1s 24us/step - loss: 0.0826 - acc: 0.9772 - val_loss: 0.1447 - val_acc: 0.9613\n"
     ]
    }
   ],
   "source": [
    "history = model.fit(Xsca_tr, Y_tr, batch_size=128, epochs=20, validation_split=0.2)"
   ]
  },
  {
   "cell_type": "code",
   "execution_count": 52,
   "metadata": {},
   "outputs": [],
   "source": [
    "def print_score(score):\n",
    "    print('Loss: {:.3f}, Acc.: {:.2%}'.format(*score))"
   ]
  },
  {
   "cell_type": "code",
   "execution_count": 53,
   "metadata": {},
   "outputs": [
    {
     "name": "stdout",
     "output_type": "stream",
     "text": [
      "10000/10000 [==============================] - 0s 24us/step\n",
      "Loss: 0.140, Acc.: 95.96%\n"
     ]
    }
   ],
   "source": [
    "print_score(model.evaluate(Xsca_te, Y_te))"
   ]
  },
  {
   "cell_type": "markdown",
   "metadata": {},
   "source": [
    "# CNN"
   ]
  },
  {
   "cell_type": "code",
   "execution_count": 54,
   "metadata": {
    "collapsed": true
   },
   "outputs": [],
   "source": [
    "## 2D (reshape)\n",
    "\n",
    "Xsca_tr = Xsca_tr.reshape(60000, 28, 28)\n",
    "Xsca_te = Xsca_te.reshape(10000, 28, 28)"
   ]
  },
  {
   "cell_type": "code",
   "execution_count": 55,
   "metadata": {},
   "outputs": [
    {
     "data": {
      "text/plain": [
       "(60000, 28, 28, 1)"
      ]
     },
     "execution_count": 55,
     "metadata": {},
     "output_type": "execute_result"
    }
   ],
   "source": [
    "np.expand_dims(Xsca_tr, -1).shape"
   ]
  },
  {
   "cell_type": "code",
   "execution_count": 56,
   "metadata": {
    "collapsed": true
   },
   "outputs": [],
   "source": [
    "## Add channel\n",
    "Xsca_tr = np.expand_dims(Xsca_tr, -1)\n",
    "Xsca_te = np.expand_dims(Xsca_te, -1)"
   ]
  },
  {
   "cell_type": "code",
   "execution_count": 70,
   "metadata": {
    "collapsed": true
   },
   "outputs": [],
   "source": [
    "## setup model\n",
    "cnn_model = Sequential()\n",
    "\n",
    "from keras.layers.convolutional import Conv2D, MaxPooling2D"
   ]
  },
  {
   "cell_type": "code",
   "execution_count": 71,
   "metadata": {
    "collapsed": true
   },
   "outputs": [],
   "source": [
    "cnn_model.add(Conv2D(20,\n",
    "                    kernel_size=5, padding='same',\n",
    "                    input_shape=(28, 28, 1), activation='relu'))"
   ]
  },
  {
   "cell_type": "code",
   "execution_count": 72,
   "metadata": {
    "collapsed": true
   },
   "outputs": [],
   "source": [
    "cnn_model.add(MaxPooling2D(pool_size=(2,2), strides=(2,2)))"
   ]
  },
  {
   "cell_type": "code",
   "execution_count": 73,
   "metadata": {
    "collapsed": true
   },
   "outputs": [],
   "source": [
    "cnn_model.add(Conv2D(50,\n",
    "                    kernel_size=5, padding='same', activation='relu'))"
   ]
  },
  {
   "cell_type": "code",
   "execution_count": 74,
   "metadata": {
    "collapsed": true
   },
   "outputs": [],
   "source": [
    "cnn_model.add(MaxPooling2D(pool_size=(2,2)))"
   ]
  },
  {
   "cell_type": "code",
   "execution_count": 75,
   "metadata": {
    "collapsed": true
   },
   "outputs": [],
   "source": [
    "## Fully Connected Layer (FC)\n",
    "from keras.layers.core import Flatten"
   ]
  },
  {
   "cell_type": "code",
   "execution_count": 76,
   "metadata": {},
   "outputs": [],
   "source": [
    "cnn_model.add(Flatten())\n",
    "cnn_model.add(Dense(500, activation='relu'))\n",
    "cnn_model.add(Dense(10, activation='softmax'))"
   ]
  },
  {
   "cell_type": "code",
   "execution_count": 82,
   "metadata": {
    "collapsed": true
   },
   "outputs": [],
   "source": [
    "cnn_model.compile(loss='categorical_crossentropy',\n",
    "             optimizer='adam',\n",
    "             metrics=['accuracy'])"
   ]
  },
  {
   "cell_type": "code",
   "execution_count": 83,
   "metadata": {},
   "outputs": [
    {
     "name": "stdout",
     "output_type": "stream",
     "text": [
      "Train on 48000 samples, validate on 12000 samples\n",
      "Epoch 1/20\n",
      "48000/48000 [==============================] - 50s 1ms/step - loss: 0.1360 - acc: 0.9683 - val_loss: 0.0642 - val_acc: 0.9820\n",
      "Epoch 2/20\n",
      "48000/48000 [==============================] - 50s 1ms/step - loss: 0.0486 - acc: 0.9854 - val_loss: 0.0547 - val_acc: 0.9843\n",
      "Epoch 3/20\n",
      "48000/48000 [==============================] - 50s 1ms/step - loss: 0.0386 - acc: 0.9883 - val_loss: 0.0587 - val_acc: 0.9840\n",
      "Epoch 4/20\n",
      "48000/48000 [==============================] - 50s 1ms/step - loss: 0.0265 - acc: 0.9919 - val_loss: 0.0416 - val_acc: 0.9888\n",
      "Epoch 5/20\n",
      "48000/48000 [==============================] - 50s 1ms/step - loss: 0.0181 - acc: 0.9939 - val_loss: 0.0513 - val_acc: 0.9865\n",
      "Epoch 6/20\n",
      "48000/48000 [==============================] - 50s 1ms/step - loss: 0.0191 - acc: 0.9937 - val_loss: 0.0417 - val_acc: 0.9897\n",
      "Epoch 7/20\n",
      "48000/48000 [==============================] - 50s 1ms/step - loss: 0.0151 - acc: 0.9955 - val_loss: 0.0451 - val_acc: 0.9878\n",
      "Epoch 8/20\n",
      "48000/48000 [==============================] - 50s 1ms/step - loss: 0.0107 - acc: 0.9965 - val_loss: 0.0616 - val_acc: 0.9862\n",
      "Epoch 9/20\n",
      "48000/48000 [==============================] - 50s 1ms/step - loss: 0.0109 - acc: 0.9966 - val_loss: 0.0507 - val_acc: 0.9877\n",
      "Epoch 10/20\n",
      "48000/48000 [==============================] - 49s 1ms/step - loss: 0.0120 - acc: 0.9965 - val_loss: 0.0549 - val_acc: 0.9871\n",
      "Epoch 11/20\n",
      "48000/48000 [==============================] - 49s 1ms/step - loss: 0.0131 - acc: 0.9957 - val_loss: 0.0442 - val_acc: 0.9904\n",
      "Epoch 12/20\n",
      "48000/48000 [==============================] - 50s 1ms/step - loss: 0.0086 - acc: 0.9972 - val_loss: 0.0459 - val_acc: 0.9882\n",
      "Epoch 13/20\n",
      "48000/48000 [==============================] - 50s 1ms/step - loss: 0.0077 - acc: 0.9976 - val_loss: 0.0590 - val_acc: 0.9875\n",
      "Epoch 14/20\n",
      "48000/48000 [==============================] - 50s 1ms/step - loss: 0.0072 - acc: 0.9978 - val_loss: 0.0516 - val_acc: 0.9898\n",
      "Epoch 15/20\n",
      "48000/48000 [==============================] - 50s 1ms/step - loss: 0.0089 - acc: 0.9971 - val_loss: 0.0562 - val_acc: 0.9893\n",
      "Epoch 16/20\n",
      "48000/48000 [==============================] - 50s 1ms/step - loss: 0.0085 - acc: 0.9974 - val_loss: 0.0688 - val_acc: 0.9867\n",
      "Epoch 17/20\n",
      "48000/48000 [==============================] - 50s 1ms/step - loss: 0.0105 - acc: 0.9973 - val_loss: 0.0520 - val_acc: 0.9885\n",
      "Epoch 18/20\n",
      "48000/48000 [==============================] - 50s 1ms/step - loss: 0.0053 - acc: 0.9981 - val_loss: 0.0557 - val_acc: 0.9892\n",
      "Epoch 19/20\n",
      "48000/48000 [==============================] - 50s 1ms/step - loss: 0.0034 - acc: 0.9990 - val_loss: 0.0582 - val_acc: 0.9901\n",
      "Epoch 20/20\n",
      "48000/48000 [==============================] - 50s 1ms/step - loss: 0.0020 - acc: 0.9992 - val_loss: 0.0600 - val_acc: 0.9903\n"
     ]
    }
   ],
   "source": [
    "cnn_history = cnn_model.fit(Xsca_tr, Y_tr, batch_size=128, epochs=20, validation_split=0.2)"
   ]
  },
  {
   "cell_type": "code",
   "execution_count": 79,
   "metadata": {},
   "outputs": [
    {
     "name": "stdout",
     "output_type": "stream",
     "text": [
      "_________________________________________________________________\n",
      "Layer (type)                 Output Shape              Param #   \n",
      "=================================================================\n",
      "conv2d_3 (Conv2D)            (None, 28, 28, 20)        520       \n",
      "_________________________________________________________________\n",
      "max_pooling2d_3 (MaxPooling2 (None, 14, 14, 20)        0         \n",
      "_________________________________________________________________\n",
      "conv2d_4 (Conv2D)            (None, 14, 14, 50)        25050     \n",
      "_________________________________________________________________\n",
      "max_pooling2d_4 (MaxPooling2 (None, 7, 7, 50)          0         \n",
      "_________________________________________________________________\n",
      "flatten_3 (Flatten)          (None, 2450)              0         \n",
      "_________________________________________________________________\n",
      "dense_14 (Dense)             (None, 500)               1225500   \n",
      "_________________________________________________________________\n",
      "dense_15 (Dense)             (None, 10)                5010      \n",
      "=================================================================\n",
      "Total params: 1,256,080\n",
      "Trainable params: 1,256,080\n",
      "Non-trainable params: 0\n",
      "_________________________________________________________________\n"
     ]
    }
   ],
   "source": [
    "cnn_model.summary()"
   ]
  },
  {
   "cell_type": "code",
   "execution_count": 88,
   "metadata": {},
   "outputs": [
    {
     "name": "stdout",
     "output_type": "stream",
     "text": [
      "10000/10000 [==============================] - 4s 384us/step\n",
      "Loss: 0.040, Acc.: 99.14%\n"
     ]
    }
   ],
   "source": [
    "print_score(cnn_model.evaluate(Xsca_te, Y_te))"
   ]
  },
  {
   "cell_type": "code",
   "execution_count": 90,
   "metadata": {},
   "outputs": [],
   "source": [
    "cnn_model.save('cnn_model.sav')\n",
    "cnn_model.save_weights('cnn_model_weight.sav')"
   ]
  },
  {
   "cell_type": "markdown",
   "metadata": {},
   "source": [
    "# CIFAR-10"
   ]
  },
  {
   "cell_type": "code",
   "execution_count": 84,
   "metadata": {
    "collapsed": true
   },
   "outputs": [],
   "source": [
    "from keras.datasetstasetstasetstasetstasetstasetstasetstasetsdatasets import cifar10"
   ]
  },
  {
   "cell_type": "code",
   "execution_count": 86,
   "metadata": {},
   "outputs": [
    {
     "name": "stdout",
     "output_type": "stream",
     "text": [
      "Downloading data from https://www.cs.toronto.edu/~kriz/cifar-10-python.tar.gz\n",
      "170500096/170498071 [==============================] - 218s 1us/step\n"
     ]
    }
   ],
   "source": [
    "(X_tr, y_tr), (X_te, y_te) = cifar10.load_data()"
   ]
  },
  {
   "cell_type": "code",
   "execution_count": 87,
   "metadata": {
    "collapsed": true
   },
   "outputs": [],
   "source": [
    "X_tr = X_tr.astype('float32')\n",
    "X_te = X_te.astype('float32')"
   ]
  },
  {
   "cell_type": "code",
   "execution_count": 91,
   "metadata": {
    "collapsed": true
   },
   "outputs": [],
   "source": [
    "X_tr /= X_tr.max()\n",
    "X_te /= X_te.max()"
   ]
  },
  {
   "cell_type": "code",
   "execution_count": 93,
   "metadata": {
    "collapsed": true
   },
   "outputs": [],
   "source": [
    "Y_tr = np_utils.to_categorical(y_tr)\n",
    "Y_te = np_utils.to_categorical(y_te)"
   ]
  },
  {
   "cell_type": "code",
   "execution_count": 103,
   "metadata": {},
   "outputs": [],
   "source": [
    "cifar_model = Sequential()\n",
    "\n",
    "cifar_model.add(Conv2D(32, kernel_size=(3,3), padding='same',\n",
    "                       input_shape=(32, 32, 3), activation='relu'))"
   ]
  },
  {
   "cell_type": "code",
   "execution_count": 105,
   "metadata": {
    "collapsed": true
   },
   "outputs": [],
   "source": [
    "from keras.layers.core import Dropout"
   ]
  },
  {
   "cell_type": "code",
   "execution_count": 106,
   "metadata": {},
   "outputs": [],
   "source": [
    "cifar_model.add(MaxPooling2D(pool_size=(2,2)))\n",
    "cifar_model.add(Dropout(0.25))"
   ]
  },
  {
   "cell_type": "code",
   "execution_count": 107,
   "metadata": {
    "collapsed": true
   },
   "outputs": [],
   "source": [
    "cifar_model.add(Flatten())\n",
    "cifar_model.add(Dense(512, activation='relu'))\n",
    "cifar_model.add(Dropout(0.5))\n",
    "cifar_model.add(Dense(10, activation='softmax'))"
   ]
  },
  {
   "cell_type": "code",
   "execution_count": 108,
   "metadata": {},
   "outputs": [],
   "source": [
    "cifar_model.compile(loss='categorical_crossentropy',\n",
    "                   optimizer='adam',\n",
    "                   metrics=['accuracy'])"
   ]
  },
  {
   "cell_type": "code",
   "execution_count": 109,
   "metadata": {
    "collapsed": true
   },
   "outputs": [
    {
     "name": "stdout",
     "output_type": "stream",
     "text": [
      "Train on 40000 samples, validate on 10000 samples\n",
      "Epoch 1/10\n",
      "40000/40000 [==============================] - 31s 773us/step - loss: 1.6390 - acc: 0.4114 - val_loss: 1.3871 - val_acc: 0.5141\n",
      "Epoch 2/10\n",
      "40000/40000 [==============================] - 30s 758us/step - loss: 1.3411 - acc: 0.5238 - val_loss: 1.2211 - val_acc: 0.5796\n",
      "Epoch 3/10\n",
      "40000/40000 [==============================] - 30s 759us/step - loss: 1.2508 - acc: 0.5570 - val_loss: 1.1506 - val_acc: 0.6087\n",
      "Epoch 4/10\n",
      "40000/40000 [==============================] - 30s 755us/step - loss: 1.1925 - acc: 0.5759 - val_loss: 1.1029 - val_acc: 0.6192\n",
      "Epoch 5/10\n",
      "40000/40000 [==============================] - 30s 758us/step - loss: 1.1515 - acc: 0.5926 - val_loss: 1.0604 - val_acc: 0.6346\n",
      "Epoch 6/10\n",
      "40000/40000 [==============================] - 30s 755us/step - loss: 1.1051 - acc: 0.6094 - val_loss: 1.0262 - val_acc: 0.6446\n",
      "Epoch 7/10\n",
      "40000/40000 [==============================] - 30s 756us/step - loss: 1.0678 - acc: 0.6238 - val_loss: 1.0260 - val_acc: 0.6450\n",
      "Epoch 8/10\n",
      "40000/40000 [==============================] - 30s 757us/step - loss: 1.0383 - acc: 0.6363 - val_loss: 0.9933 - val_acc: 0.6495\n",
      "Epoch 9/10\n",
      "40000/40000 [==============================] - 30s 757us/step - loss: 1.0176 - acc: 0.6412 - val_loss: 0.9725 - val_acc: 0.6599\n",
      "Epoch 10/10\n",
      "40000/40000 [==============================] - 30s 757us/step - loss: 0.9868 - acc: 0.6537 - val_loss: 0.9694 - val_acc: 0.6574\n"
     ]
    }
   ],
   "source": [
    "cifar_history = cifar_model.fit(X_tr, Y_tr, \n",
    "               batch_size=128, epochs=10, validation_split=0.2)"
   ]
  },
  {
   "cell_type": "code",
   "execution_count": 111,
   "metadata": {},
   "outputs": [
    {
     "data": {
      "text/plain": [
       "<matplotlib.axes._subplots.AxesSubplot at 0x15e59d30>"
      ]
     },
     "execution_count": 111,
     "metadata": {},
     "output_type": "execute_result"
    },
    {
     "data": {
      "image/png": "[encoded data removed]",
      "text/plain": [
       "<matplotlib.figure.Figure at 0x1adac748>"
      ]
     },
     "metadata": {},
     "output_type": "display_data"
    }
   ],
   "source": [
    "cifar_result = DataFrame(cifar_history.history)\n",
    "cifar_result[['acc', 'val_acc']].plot()"
   ]
  },
  {
   "cell_type": "code",
   "execution_count": 112,
   "metadata": {
    "collapsed": true
   },
   "outputs": [
    {
     "name": "stdout",
     "output_type": "stream",
     "text": [
      "_________________________________________________________________\n",
      "Layer (type)                 Output Shape              Param #   \n",
      "=================================================================\n",
      "conv2d_6 (Conv2D)            (None, 32, 32, 32)        896       \n",
      "_________________________________________________________________\n",
      "max_pooling2d_6 (MaxPooling2 (None, 16, 16, 32)        0         \n",
      "_________________________________________________________________\n",
      "max_pooling2d_7 (MaxPooling2 (None, 8, 8, 32)          0         \n",
      "_________________________________________________________________\n",
      "dropout_1 (Dropout)          (None, 8, 8, 32)          0         \n",
      "_________________________________________________________________\n",
      "flatten_5 (Flatten)          (None, 2048)              0         \n",
      "_________________________________________________________________\n",
      "dense_18 (Dense)             (None, 512)               1049088   \n",
      "_________________________________________________________________\n",
      "dropout_2 (Dropout)          (None, 512)               0         \n",
      "_________________________________________________________________\n",
      "dense_19 (Dense)             (None, 10)                5130      \n",
      "=================================================================\n",
      "Total params: 1,055,114\n",
      "Trainable params: 1,055,114\n",
      "Non-trainable params: 0\n",
      "_________________________________________________________________\n"
     ]
    }
   ],
   "source": [
    "cifar_model.summary()"
   ]
  },
  {
   "cell_type": "code",
   "execution_count": 113,
   "metadata": {
    "collapsed": true
   },
   "outputs": [],
   "source": [
    "from scipy.misc import imread, imresize, imsave"
   ]
  },
  {
   "cell_type": "code",
   "execution_count": 123,
   "metadata": {
    "collapsed": true
   },
   "outputs": [],
   "source": [
    "mozzi = imread('data/mozzi.jpg')"
   ]
  },
  {
   "cell_type": "code",
   "execution_count": 124,
   "metadata": {
    "collapsed": true
   },
   "outputs": [],
   "source": [
    "x = imresize(mozzi, (32, 32))"
   ]
  },
  {
   "cell_type": "code",
   "execution_count": 118,
   "metadata": {
    "collapsed": true
   },
   "outputs": [
    {
     "data": {
      "text/plain": [
       "array([[[0, 0, 0],\n",
       "        [0, 0, 0],\n",
       "        [0, 0, 0],\n",
       "        ..., \n",
       "        [0, 0, 0],\n",
       "        [0, 0, 0],\n",
       "        [0, 0, 0]],\n",
       "\n",
       "       [[0, 0, 0],\n",
       "        [0, 0, 0],\n",
       "        [0, 0, 0],\n",
       "        ..., \n",
       "        [0, 0, 0],\n",
       "        [0, 0, 0],\n",
       "        [0, 0, 0]],\n",
       "\n",
       "       [[0, 0, 0],\n",
       "        [0, 0, 0],\n",
       "        [0, 0, 0],\n",
       "        ..., \n",
       "        [0, 0, 0],\n",
       "        [0, 0, 0],\n",
       "        [0, 0, 0]],\n",
       "\n",
       "       ..., \n",
       "       [[0, 0, 0],\n",
       "        [0, 0, 0],\n",
       "        [0, 0, 0],\n",
       "        ..., \n",
       "        [0, 0, 0],\n",
       "        [0, 0, 0],\n",
       "        [0, 0, 0]],\n",
       "\n",
       "       [[0, 0, 0],\n",
       "        [0, 0, 0],\n",
       "        [0, 0, 0],\n",
       "        ..., \n",
       "        [0, 0, 0],\n",
       "        [0, 0, 0],\n",
       "        [0, 0, 0]],\n",
       "\n",
       "       [[0, 0, 0],\n",
       "        [0, 0, 0],\n",
       "        [0, 0, 0],\n",
       "        ..., \n",
       "        [0, 0, 0],\n",
       "        [0, 0, 0],\n",
       "        [0, 0, 0]]], dtype=uint8)"
      ]
     },
     "execution_count": 118,
     "metadata": {},
     "output_type": "execute_result"
    }
   ],
   "source": [
    "x.imag"
   ]
  },
  {
   "cell_type": "code",
   "execution_count": 119,
   "metadata": {
    "collapsed": true
   },
   "outputs": [],
   "source": [
    "imsave('mozzi_32x32.png', x)"
   ]
  },
  {
   "cell_type": "code",
   "execution_count": 125,
   "metadata": {
    "collapsed": true
   },
   "outputs": [],
   "source": [
    "X = np.array([x])"
   ]
  },
  {
   "cell_type": "code",
   "execution_count": 121,
   "metadata": {},
   "outputs": [
    {
     "data": {
      "text/plain": [
       "(1, 32, 32, 3)"
      ]
     },
     "execution_count": 121,
     "metadata": {},
     "output_type": "execute_result"
    }
   ],
   "source": [
    "X.shape"
   ]
  },
  {
   "cell_type": "code",
   "execution_count": 126,
   "metadata": {},
   "outputs": [
    {
     "data": {
      "text/plain": [
       "array([5], dtype=int64)"
      ]
     },
     "execution_count": 126,
     "metadata": {},
     "output_type": "execute_result"
    }
   ],
   "source": [
    "cifar_model.predict_classes(X)"
   ]
  },
  {
   "cell_type": "code",
   "execution_count": 135,
   "metadata": {},
   "outputs": [],
   "source": [
    "b = imread('bird.jpeg')"
   ]
  },
  {
   "cell_type": "code",
   "execution_count": 136,
   "metadata": {
    "collapsed": true
   },
   "outputs": [],
   "source": [
    "b = imresize(b, (32, 32))\n",
    "imsave('bird_32x32.png', b)"
   ]
  },
  {
   "cell_type": "code",
   "execution_count": 137,
   "metadata": {
    "collapsed": true
   },
   "outputs": [],
   "source": [
    "B = np.array([b])"
   ]
  },
  {
   "cell_type": "code",
   "execution_count": 138,
   "metadata": {},
   "outputs": [
    {
     "data": {
      "text/plain": [
       "array([1], dtype=int64)"
      ]
     },
     "execution_count": 138,
     "metadata": {},
     "output_type": "execute_result"
    }
   ],
   "source": [
    "cifar_model.predict_classes(B)"
   ]
  },
  {
   "cell_type": "code",
   "execution_count": 140,
   "metadata": {},
   "outputs": [
    {
     "name": "stdout",
     "output_type": "stream",
     "text": [
      "10000/10000 [==============================] - 2s 239us/step\n",
      "Loss: 0.983, Acc.: 65.69%\n"
     ]
    }
   ],
   "source": [
    "print_score(cifar_model.evaluate(X_te, Y_te))"
   ]
  },
  {
   "cell_type": "markdown",
   "metadata": {},
   "source": [
    "## Keras application"
   ]
  },
  {
   "cell_type": "code",
   "execution_count": 141,
   "metadata": {
    "collapsed": true
   },
   "outputs": [],
   "source": [
    "from keras.applications.vgg16 import VGG16, preprocess_input\n"
   ]
  },
  {
   "cell_type": "code",
   "execution_count": 142,
   "metadata": {
    "collapsed": true
   },
   "outputs": [],
   "source": [
    "vgg_model = VGG16(weights=None)"
   ]
  },
  {
   "cell_type": "code",
   "execution_count": 143,
   "metadata": {},
   "outputs": [
    {
     "ename": "OSError",
     "evalue": "Unable to open file (Truncated file: eof = 431489024, sblock->base_addr = 0, stored_eoa = 553479920)",
     "output_type": "error",
     "traceback": [
      "\u001b[1;31m---------------------------------------------------------------------------\u001b[0m",
      "\u001b[1;31mOSError\u001b[0m                                   Traceback (most recent call last)",
      "\u001b[1;32m<ipython-input-143-5027ce7e5deb>\u001b[0m in \u001b[0;36m<module>\u001b[1;34m()\u001b[0m\n\u001b[1;32m----> 1\u001b[1;33m \u001b[0mvgg_model\u001b[0m\u001b[1;33m.\u001b[0m\u001b[0mload_weights\u001b[0m\u001b[1;33m(\u001b[0m\u001b[1;34m'data/vgg16_weights.h5'\u001b[0m\u001b[1;33m)\u001b[0m\u001b[1;33m\u001b[0m\u001b[0m\n\u001b[0m",
      "\u001b[1;32mC:\\ProgramData\\Anaconda3\\lib\\site-packages\\keras\\engine\\topology.py\u001b[0m in \u001b[0;36mload_weights\u001b[1;34m(self, filepath, by_name, skip_mismatch)\u001b[0m\n\u001b[0;32m   2636\u001b[0m         \u001b[1;32mif\u001b[0m \u001b[0mh5py\u001b[0m \u001b[1;32mis\u001b[0m \u001b[1;32mNone\u001b[0m\u001b[1;33m:\u001b[0m\u001b[1;33m\u001b[0m\u001b[0m\n\u001b[0;32m   2637\u001b[0m             \u001b[1;32mraise\u001b[0m \u001b[0mImportError\u001b[0m\u001b[1;33m(\u001b[0m\u001b[1;34m'`load_weights` requires h5py.'\u001b[0m\u001b[1;33m)\u001b[0m\u001b[1;33m\u001b[0m\u001b[0m\n\u001b[1;32m-> 2638\u001b[1;33m         \u001b[0mf\u001b[0m \u001b[1;33m=\u001b[0m \u001b[0mh5py\u001b[0m\u001b[1;33m.\u001b[0m\u001b[0mFile\u001b[0m\u001b[1;33m(\u001b[0m\u001b[0mfilepath\u001b[0m\u001b[1;33m,\u001b[0m \u001b[0mmode\u001b[0m\u001b[1;33m=\u001b[0m\u001b[1;34m'r'\u001b[0m\u001b[1;33m)\u001b[0m\u001b[1;33m\u001b[0m\u001b[0m\n\u001b[0m\u001b[0;32m   2639\u001b[0m         \u001b[1;32mif\u001b[0m \u001b[1;34m'layer_names'\u001b[0m \u001b[1;32mnot\u001b[0m \u001b[1;32min\u001b[0m \u001b[0mf\u001b[0m\u001b[1;33m.\u001b[0m\u001b[0mattrs\u001b[0m \u001b[1;32mand\u001b[0m \u001b[1;34m'model_weights'\u001b[0m \u001b[1;32min\u001b[0m \u001b[0mf\u001b[0m\u001b[1;33m:\u001b[0m\u001b[1;33m\u001b[0m\u001b[0m\n\u001b[0;32m   2640\u001b[0m             \u001b[0mf\u001b[0m \u001b[1;33m=\u001b[0m \u001b[0mf\u001b[0m\u001b[1;33m[\u001b[0m\u001b[1;34m'model_weights'\u001b[0m\u001b[1;33m]\u001b[0m\u001b[1;33m\u001b[0m\u001b[0m\n",
      "\u001b[1;32mC:\\ProgramData\\Anaconda3\\lib\\site-packages\\h5py\\_hl\\files.py\u001b[0m in \u001b[0;36m__init__\u001b[1;34m(self, name, mode, driver, libver, userblock_size, swmr, **kwds)\u001b[0m\n\u001b[0;32m    269\u001b[0m \u001b[1;33m\u001b[0m\u001b[0m\n\u001b[0;32m    270\u001b[0m                 \u001b[0mfapl\u001b[0m \u001b[1;33m=\u001b[0m \u001b[0mmake_fapl\u001b[0m\u001b[1;33m(\u001b[0m\u001b[0mdriver\u001b[0m\u001b[1;33m,\u001b[0m \u001b[0mlibver\u001b[0m\u001b[1;33m,\u001b[0m \u001b[1;33m**\u001b[0m\u001b[0mkwds\u001b[0m\u001b[1;33m)\u001b[0m\u001b[1;33m\u001b[0m\u001b[0m\n\u001b[1;32m--> 271\u001b[1;33m                 \u001b[0mfid\u001b[0m \u001b[1;33m=\u001b[0m \u001b[0mmake_fid\u001b[0m\u001b[1;33m(\u001b[0m\u001b[0mname\u001b[0m\u001b[1;33m,\u001b[0m \u001b[0mmode\u001b[0m\u001b[1;33m,\u001b[0m \u001b[0muserblock_size\u001b[0m\u001b[1;33m,\u001b[0m \u001b[0mfapl\u001b[0m\u001b[1;33m,\u001b[0m \u001b[0mswmr\u001b[0m\u001b[1;33m=\u001b[0m\u001b[0mswmr\u001b[0m\u001b[1;33m)\u001b[0m\u001b[1;33m\u001b[0m\u001b[0m\n\u001b[0m\u001b[0;32m    272\u001b[0m \u001b[1;33m\u001b[0m\u001b[0m\n\u001b[0;32m    273\u001b[0m                 \u001b[1;32mif\u001b[0m \u001b[0mswmr_support\u001b[0m\u001b[1;33m:\u001b[0m\u001b[1;33m\u001b[0m\u001b[0m\n",
      "\u001b[1;32mC:\\ProgramData\\Anaconda3\\lib\\site-packages\\h5py\\_hl\\files.py\u001b[0m in \u001b[0;36mmake_fid\u001b[1;34m(name, mode, userblock_size, fapl, fcpl, swmr)\u001b[0m\n\u001b[0;32m     99\u001b[0m         \u001b[1;32mif\u001b[0m \u001b[0mswmr\u001b[0m \u001b[1;32mand\u001b[0m \u001b[0mswmr_support\u001b[0m\u001b[1;33m:\u001b[0m\u001b[1;33m\u001b[0m\u001b[0m\n\u001b[0;32m    100\u001b[0m             \u001b[0mflags\u001b[0m \u001b[1;33m|=\u001b[0m \u001b[0mh5f\u001b[0m\u001b[1;33m.\u001b[0m\u001b[0mACC_SWMR_READ\u001b[0m\u001b[1;33m\u001b[0m\u001b[0m\n\u001b[1;32m--> 101\u001b[1;33m         \u001b[0mfid\u001b[0m \u001b[1;33m=\u001b[0m \u001b[0mh5f\u001b[0m\u001b[1;33m.\u001b[0m\u001b[0mopen\u001b[0m\u001b[1;33m(\u001b[0m\u001b[0mname\u001b[0m\u001b[1;33m,\u001b[0m \u001b[0mflags\u001b[0m\u001b[1;33m,\u001b[0m \u001b[0mfapl\u001b[0m\u001b[1;33m=\u001b[0m\u001b[0mfapl\u001b[0m\u001b[1;33m)\u001b[0m\u001b[1;33m\u001b[0m\u001b[0m\n\u001b[0m\u001b[0;32m    102\u001b[0m     \u001b[1;32melif\u001b[0m \u001b[0mmode\u001b[0m \u001b[1;33m==\u001b[0m \u001b[1;34m'r+'\u001b[0m\u001b[1;33m:\u001b[0m\u001b[1;33m\u001b[0m\u001b[0m\n\u001b[0;32m    103\u001b[0m         \u001b[0mfid\u001b[0m \u001b[1;33m=\u001b[0m \u001b[0mh5f\u001b[0m\u001b[1;33m.\u001b[0m\u001b[0mopen\u001b[0m\u001b[1;33m(\u001b[0m\u001b[0mname\u001b[0m\u001b[1;33m,\u001b[0m \u001b[0mh5f\u001b[0m\u001b[1;33m.\u001b[0m\u001b[0mACC_RDWR\u001b[0m\u001b[1;33m,\u001b[0m \u001b[0mfapl\u001b[0m\u001b[1;33m=\u001b[0m\u001b[0mfapl\u001b[0m\u001b[1;33m)\u001b[0m\u001b[1;33m\u001b[0m\u001b[0m\n",
      "\u001b[1;32mh5py\\_objects.pyx\u001b[0m in \u001b[0;36mh5py._objects.with_phil.wrapper (C:\\Minonda\\conda-bld\\h5py_1490029446037\\work\\h5py\\_objects.c:2867)\u001b[1;34m()\u001b[0m\n",
      "\u001b[1;32mh5py\\_objects.pyx\u001b[0m in \u001b[0;36mh5py._objects.with_phil.wrapper (C:\\Minonda\\conda-bld\\h5py_1490029446037\\work\\h5py\\_objects.c:2825)\u001b[1;34m()\u001b[0m\n",
      "\u001b[1;32mh5py\\h5f.pyx\u001b[0m in \u001b[0;36mh5py.h5f.open (C:\\Minonda\\conda-bld\\h5py_1490029446037\\work\\h5py\\h5f.c:2140)\u001b[1;34m()\u001b[0m\n",
      "\u001b[1;31mOSError\u001b[0m: Unable to open file (Truncated file: eof = 431489024, sblock->base_addr = 0, stored_eoa = 553479920)"
     ]
    }
   ],
   "source": [
    "vgg_model.load_weights('data/vgg16_weights.h5')"
   ]
  },
  {
   "cell_type": "code",
   "execution_count": null,
   "metadata": {
    "collapsed": true
   },
   "outputs": [],
   "source": []
  }
 ],
 "metadata": {
  "kernelspec": {
   "display_name": "Python 3",
   "language": "python",
   "name": "python3"
  },
  "language_info": {
   "codemirror_mode": {
    "name": "ipython",
    "version": 3
   },
   "file_extension": ".py",
   "mimetype": "text/x-python",
   "name": "python",
   "nbconvert_exporter": "python",
   "pygments_lexer": "ipython3",
   "version": "3.6.1"
  }
 },
 "nbformat": 4,
 "nbformat_minor": 2
}
